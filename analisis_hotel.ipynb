{
 "cells": [
  {
   "cell_type": "markdown",
   "id": "a8404b52",
   "metadata": {},
   "source": [
    "## Grupo 2: Análisis de reservas y cancelaciones hoteleras: patrones y predicciones\n",
    "🎯 Objetivo del proyecto\n",
    "Analizar los datos de reservas de hoteles para comprender el perfil de los clientes, identificar patrones de comportamiento (estacionalidad, duración de la estancia, precios) y estudiar los factores que influyen en las cancelaciones, utilizando herramientas de análisis de datos en Python."
   ]
  },
  {
   "cell_type": "markdown",
   "id": "8e31c558",
   "metadata": {},
   "source": [
    "### 1. Introducción y descripción del dataset\n",
    "\n",
    "- Breve explicación del contexto del análisis\n",
    "\n",
    "- Descripción de las variables disponibles\n",
    "\n",
    "- Objetivo del estudio"
   ]
  },
  {
   "cell_type": "code",
   "execution_count": 3,
   "id": "7f330d98",
   "metadata": {},
   "outputs": [],
   "source": [
    "import pandas as pd\n",
    "import seaborn as sns\n",
    "import matplotlib.pyplot as plt\n",
    "\n",
    "df = pd.read_csv('hotel_bookings.csv')"
   ]
  },
  {
   "cell_type": "markdown",
   "id": "5f2ad1f5",
   "metadata": {},
   "source": [
    "### 2. Perfil general de las reservas (Patri)"
   ]
  },
  {
   "cell_type": "markdown",
   "id": "fd47203d",
   "metadata": {},
   "source": [
    "Objetivo: Entender cómo son las reservas y los clientes en general.\n",
    "\n",
    "Tareas:\n",
    "\n",
    "* Limpieza y descripción del dataset: tipos de datos, valores nulos, duplicados.\n",
    "* Análisis de variables descriptivas:\n",
    "\n",
    "  * *Tipo de hotel* (city vs. resort).\n",
    "  * *Número de huéspedes* (adultos, niños, bebés).\n",
    "  * *Países de origen*: top 10 países.\n",
    "  * *Canales de reserva* (agencias online, offline, directas).\n",
    "* Visualizaciones:\n",
    "\n",
    "  * Gráfico de barras comparando city hotel vs resort hotel.\n",
    "  * Gráfico circular de canales de reserva.\n",
    "  * Mapa mundial con procedencia de clientes.\n",
    "\n",
    "### Preguntas a responder:\n",
    "\n",
    "* ¿Cuál es el perfil típico de cliente?\n",
    "* ¿Qué países aportan más reservas?\n",
    "* ¿Por qué canales se reserva más?"
   ]
  },
  {
   "cell_type": "code",
   "execution_count": 7,
   "id": "40e14651",
   "metadata": {},
   "outputs": [
    {
     "name": "stdout",
     "output_type": "stream",
     "text": [
      "--- Primeras 5 filas ---\n",
      "          hotel  is_canceled  lead_time  arrival_date_year arrival_date_month  \\\n",
      "0  Resort Hotel            0        342               2015               July   \n",
      "1  Resort Hotel            0        737               2015               July   \n",
      "2  Resort Hotel            0          7               2015               July   \n",
      "3  Resort Hotel            0         13               2015               July   \n",
      "4  Resort Hotel            0         14               2015               July   \n",
      "\n",
      "   arrival_date_week_number  arrival_date_day_of_month  \\\n",
      "0                        27                          1   \n",
      "1                        27                          1   \n",
      "2                        27                          1   \n",
      "3                        27                          1   \n",
      "4                        27                          1   \n",
      "\n",
      "   stays_in_weekend_nights  stays_in_week_nights  adults  ...  deposit_type  \\\n",
      "0                        0                     0       2  ...    No Deposit   \n",
      "1                        0                     0       2  ...    No Deposit   \n",
      "2                        0                     1       1  ...    No Deposit   \n",
      "3                        0                     1       1  ...    No Deposit   \n",
      "4                        0                     2       2  ...    No Deposit   \n",
      "\n",
      "   agent company days_in_waiting_list customer_type   adr  \\\n",
      "0    NaN     NaN                    0     Transient   0.0   \n",
      "1    NaN     NaN                    0     Transient   0.0   \n",
      "2    NaN     NaN                    0     Transient  75.0   \n",
      "3  304.0     NaN                    0     Transient  75.0   \n",
      "4  240.0     NaN                    0     Transient  98.0   \n",
      "\n",
      "   required_car_parking_spaces  total_of_special_requests  reservation_status  \\\n",
      "0                            0                          0           Check-Out   \n",
      "1                            0                          0           Check-Out   \n",
      "2                            0                          0           Check-Out   \n",
      "3                            0                          0           Check-Out   \n",
      "4                            0                          1           Check-Out   \n",
      "\n",
      "  reservation_status_date  \n",
      "0              2015-07-01  \n",
      "1              2015-07-01  \n",
      "2              2015-07-02  \n",
      "3              2015-07-02  \n",
      "4              2015-07-03  \n",
      "\n",
      "[5 rows x 32 columns]\n",
      "\n",
      "--- Información general y tipos de datos ---\n",
      "<class 'pandas.core.frame.DataFrame'>\n",
      "RangeIndex: 119390 entries, 0 to 119389\n",
      "Data columns (total 32 columns):\n",
      " #   Column                          Non-Null Count   Dtype  \n",
      "---  ------                          --------------   -----  \n",
      " 0   hotel                           119390 non-null  object \n",
      " 1   is_canceled                     119390 non-null  int64  \n",
      " 2   lead_time                       119390 non-null  int64  \n",
      " 3   arrival_date_year               119390 non-null  int64  \n",
      " 4   arrival_date_month              119390 non-null  object \n",
      " 5   arrival_date_week_number        119390 non-null  int64  \n",
      " 6   arrival_date_day_of_month       119390 non-null  int64  \n",
      " 7   stays_in_weekend_nights         119390 non-null  int64  \n",
      " 8   stays_in_week_nights            119390 non-null  int64  \n",
      " 9   adults                          119390 non-null  int64  \n",
      " 10  children                        119386 non-null  float64\n",
      " 11  babies                          119390 non-null  int64  \n",
      " 12  meal                            119390 non-null  object \n",
      " 13  country                         118902 non-null  object \n",
      " 14  market_segment                  119390 non-null  object \n",
      " 15  distribution_channel            119390 non-null  object \n",
      " 16  is_repeated_guest               119390 non-null  int64  \n",
      " 17  previous_cancellations          119390 non-null  int64  \n",
      " 18  previous_bookings_not_canceled  119390 non-null  int64  \n",
      " 19  reserved_room_type              119390 non-null  object \n",
      " 20  assigned_room_type              119390 non-null  object \n",
      " 21  booking_changes                 119390 non-null  int64  \n",
      " 22  deposit_type                    119390 non-null  object \n",
      " 23  agent                           103050 non-null  float64\n",
      " 24  company                         6797 non-null    float64\n",
      " 25  days_in_waiting_list            119390 non-null  int64  \n",
      " 26  customer_type                   119390 non-null  object \n",
      " 27  adr                             119390 non-null  float64\n",
      " 28  required_car_parking_spaces     119390 non-null  int64  \n",
      " 29  total_of_special_requests       119390 non-null  int64  \n",
      " 30  reservation_status              119390 non-null  object \n",
      " 31  reservation_status_date         119390 non-null  object \n",
      "dtypes: float64(4), int64(16), object(12)\n",
      "memory usage: 29.1+ MB\n",
      "\n",
      "--- Resumen estadístico de las columnas numéricas ---\n",
      "         is_canceled      lead_time  arrival_date_year  \\\n",
      "count  119390.000000  119390.000000      119390.000000   \n",
      "mean        0.370416     104.011416        2016.156554   \n",
      "std         0.482918     106.863097           0.707476   \n",
      "min         0.000000       0.000000        2015.000000   \n",
      "25%         0.000000      18.000000        2016.000000   \n",
      "50%         0.000000      69.000000        2016.000000   \n",
      "75%         1.000000     160.000000        2017.000000   \n",
      "max         1.000000     737.000000        2017.000000   \n",
      "\n",
      "       arrival_date_week_number  arrival_date_day_of_month  \\\n",
      "count             119390.000000              119390.000000   \n",
      "mean                  27.165173                  15.798241   \n",
      "std                   13.605138                   8.780829   \n",
      "min                    1.000000                   1.000000   \n",
      "25%                   16.000000                   8.000000   \n",
      "50%                   28.000000                  16.000000   \n",
      "75%                   38.000000                  23.000000   \n",
      "max                   53.000000                  31.000000   \n",
      "\n",
      "       stays_in_weekend_nights  stays_in_week_nights         adults  \\\n",
      "count            119390.000000         119390.000000  119390.000000   \n",
      "mean                  0.927599              2.500302       1.856403   \n",
      "std                   0.998613              1.908286       0.579261   \n",
      "min                   0.000000              0.000000       0.000000   \n",
      "25%                   0.000000              1.000000       2.000000   \n",
      "50%                   1.000000              2.000000       2.000000   \n",
      "75%                   2.000000              3.000000       2.000000   \n",
      "max                  19.000000             50.000000      55.000000   \n",
      "\n",
      "            children         babies  is_repeated_guest  \\\n",
      "count  119386.000000  119390.000000      119390.000000   \n",
      "mean        0.103890       0.007949           0.031912   \n",
      "std         0.398561       0.097436           0.175767   \n",
      "min         0.000000       0.000000           0.000000   \n",
      "25%         0.000000       0.000000           0.000000   \n",
      "50%         0.000000       0.000000           0.000000   \n",
      "75%         0.000000       0.000000           0.000000   \n",
      "max        10.000000      10.000000           1.000000   \n",
      "\n",
      "       previous_cancellations  previous_bookings_not_canceled  \\\n",
      "count           119390.000000                   119390.000000   \n",
      "mean                 0.087118                        0.137097   \n",
      "std                  0.844336                        1.497437   \n",
      "min                  0.000000                        0.000000   \n",
      "25%                  0.000000                        0.000000   \n",
      "50%                  0.000000                        0.000000   \n",
      "75%                  0.000000                        0.000000   \n",
      "max                 26.000000                       72.000000   \n",
      "\n",
      "       booking_changes          agent      company  days_in_waiting_list  \\\n",
      "count    119390.000000  103050.000000  6797.000000         119390.000000   \n",
      "mean          0.221124      86.693382   189.266735              2.321149   \n",
      "std           0.652306     110.774548   131.655015             17.594721   \n",
      "min           0.000000       1.000000     6.000000              0.000000   \n",
      "25%           0.000000       9.000000    62.000000              0.000000   \n",
      "50%           0.000000      14.000000   179.000000              0.000000   \n",
      "75%           0.000000     229.000000   270.000000              0.000000   \n",
      "max          21.000000     535.000000   543.000000            391.000000   \n",
      "\n",
      "                 adr  required_car_parking_spaces  total_of_special_requests  \n",
      "count  119390.000000                119390.000000              119390.000000  \n",
      "mean      101.831122                     0.062518                   0.571363  \n",
      "std        50.535790                     0.245291                   0.792798  \n",
      "min        -6.380000                     0.000000                   0.000000  \n",
      "25%        69.290000                     0.000000                   0.000000  \n",
      "50%        94.575000                     0.000000                   0.000000  \n",
      "75%       126.000000                     0.000000                   1.000000  \n",
      "max      5400.000000                     8.000000                   5.000000  \n",
      "\n",
      "--- Cuántos datos nulos hay ---\n",
      "hotel                                  0\n",
      "is_canceled                            0\n",
      "lead_time                              0\n",
      "arrival_date_year                      0\n",
      "arrival_date_month                     0\n",
      "arrival_date_week_number               0\n",
      "arrival_date_day_of_month              0\n",
      "stays_in_weekend_nights                0\n",
      "stays_in_week_nights                   0\n",
      "adults                                 0\n",
      "children                               4\n",
      "babies                                 0\n",
      "meal                                   0\n",
      "country                              488\n",
      "market_segment                         0\n",
      "distribution_channel                   0\n",
      "is_repeated_guest                      0\n",
      "previous_cancellations                 0\n",
      "previous_bookings_not_canceled         0\n",
      "reserved_room_type                     0\n",
      "assigned_room_type                     0\n",
      "booking_changes                        0\n",
      "deposit_type                           0\n",
      "agent                              16340\n",
      "company                           112593\n",
      "days_in_waiting_list                   0\n",
      "customer_type                          0\n",
      "adr                                    0\n",
      "required_car_parking_spaces            0\n",
      "total_of_special_requests              0\n",
      "reservation_status                     0\n",
      "reservation_status_date                0\n",
      "dtype: int64\n",
      "Total de filas: 119390\n",
      "Filas únicas: 87396\n",
      "\n",
      "Primeras filas marcadas como duplicadas:\n",
      "            hotel  is_canceled  lead_time  arrival_date_year  \\\n",
      "5    Resort Hotel            0         14               2015   \n",
      "22   Resort Hotel            0         72               2015   \n",
      "43   Resort Hotel            0         70               2015   \n",
      "138  Resort Hotel            1          5               2015   \n",
      "200  Resort Hotel            0          0               2015   \n",
      "\n",
      "    arrival_date_month  arrival_date_week_number  arrival_date_day_of_month  \\\n",
      "5                 July                        27                          1   \n",
      "22                July                        27                          1   \n",
      "43                July                        27                          2   \n",
      "138               July                        28                          5   \n",
      "200               July                        28                          7   \n",
      "\n",
      "     stays_in_weekend_nights  stays_in_week_nights  adults  ...  deposit_type  \\\n",
      "5                          0                     2       2  ...    No Deposit   \n",
      "22                         2                     4       2  ...    No Deposit   \n",
      "43                         2                     3       2  ...    No Deposit   \n",
      "138                        1                     0       2  ...    No Deposit   \n",
      "200                        0                     1       1  ...    No Deposit   \n",
      "\n",
      "     agent company days_in_waiting_list customer_type     adr  \\\n",
      "5    240.0     NaN                    0     Transient   98.00   \n",
      "22   250.0     NaN                    0     Transient   84.67   \n",
      "43   250.0     NaN                    0     Transient  137.00   \n",
      "138  240.0     NaN                    0     Transient   97.00   \n",
      "200  240.0     NaN                    0     Transient  109.80   \n",
      "\n",
      "     required_car_parking_spaces  total_of_special_requests  \\\n",
      "5                              0                          1   \n",
      "22                             0                          1   \n",
      "43                             0                          1   \n",
      "138                            0                          0   \n",
      "200                            0                          3   \n",
      "\n",
      "     reservation_status reservation_status_date  \n",
      "5             Check-Out              2015-07-03  \n",
      "22            Check-Out              2015-07-07  \n",
      "43            Check-Out              2015-07-07  \n",
      "138            Canceled              2015-07-01  \n",
      "200           Check-Out              2015-07-08  \n",
      "\n",
      "[5 rows x 32 columns]\n"
     ]
    }
   ],
   "source": [
    "print(\"--- Primeras 5 filas ---\")\n",
    "print(df.head())\n",
    "\n",
    "print(\"\\n--- Información general y tipos de datos ---\")\n",
    "df.info()\n",
    "\n",
    "print(\"\\n--- Resumen estadístico de las columnas numéricas ---\")\n",
    "print(df.describe())\n",
    "\n",
    "print(\"\\n--- Cuántos datos nulos hay ---\")\n",
    "print(df.isnull().sum())\n",
    "\n",
    "# Pero esto es más informativo:\n",
    "print(f\"Total de filas: {len(df)}\")\n",
    "print(f\"Filas únicas: {len(df.drop_duplicates())}\")\n",
    "\n",
    "duplicados_df = df[df.duplicated(keep='first')]\n",
    "print(f\"\\nPrimeras filas marcadas como duplicadas:\")\n",
    "print(duplicados_df.head())"
   ]
  },
  {
   "cell_type": "markdown",
   "id": "e780dffa",
   "metadata": {},
   "source": [
    "Mirar por qué con size() sale bien y con value_counts() no"
   ]
  },
  {
   "cell_type": "code",
   "execution_count": null,
   "id": "608b737a",
   "metadata": {},
   "outputs": [
    {
     "data": {
      "image/png": "[encoded data removed]",
      "text/plain": [
       "<Figure size 640x480 with 1 Axes>"
      ]
     },
     "metadata": {},
     "output_type": "display_data"
    }
   ],
   "source": [
    "clientes_hotel_anio = df.groupby(['arrival_date_year', 'hotel']).size().reset_index(name='cantidad_clientes')\n",
    "\n",
    "sns.barplot(data=clientes_hotel_anio, x='arrival_date_year', y='cantidad_clientes', hue='hotel')\n",
    "plt.title('Cantidad de clientes por año')\n",
    "plt.xlabel('Año')\n",
    "plt.ylabel('Clientes')\n",
    "plt.show()"
   ]
  },
  {
   "cell_type": "code",
   "execution_count": null,
   "id": "3dc0722d",
   "metadata": {},
   "outputs": [
    {
     "name": "stdout",
     "output_type": "stream",
     "text": [
      "Número de países distintos: hotel\n",
      "City Hotel      166\n",
      "Resort Hotel    125\n",
      "Name: country, dtype: int64\n",
      "hotel         country\n",
      "City Hotel    PRT        30960\n",
      "              FRA         8804\n",
      "              DEU         6084\n",
      "              GBR         5315\n",
      "              ESP         4611\n",
      "                         ...  \n",
      "Resort Hotel  TGO            1\n",
      "              TUN            1\n",
      "              UGA            1\n",
      "              UZB            1\n",
      "              ZMB            1\n",
      "Name: count, Length: 291, dtype: int64\n"
     ]
    },
    {
     "data": {
      "image/png": "[encoded data removed]",
      "text/plain": [
       "<Figure size 200x100 with 1 Axes>"
      ]
     },
     "metadata": {},
     "output_type": "display_data"
    }
   ],
   "source": [
    "count_paises = df['country'].nunique()\n",
    "\n",
    "reservas_por_pais = df.groupby('hotel')['country'].value_counts()\n",
    "print(reservas_por_pais)\n",
    "\n",
    "# Crear figura\n",
    "fig, ax = plt.subplots(figsize=(2, 1))\n",
    "ax.axis('off')  # Ocultar ejes\n",
    "\n",
    "# Mostrar texto\n",
    "ax.text(0.5, 0.5, count_paises, ha='center', va='center', fontsize=12, fontweight='bold')\n",
    "\n",
    "plt.title(\"Países distintos en total:\", fontsize=14)\n",
    "plt.show()"
   ]
  },
  {
   "cell_type": "code",
   "execution_count": null,
   "id": "3701177f",
   "metadata": {},
   "outputs": [
    {
     "name": "stdout",
     "output_type": "stream",
     "text": [
      "Número de países distintos: hotel\n",
      "City Hotel      166\n",
      "Resort Hotel    125\n",
      "Name: country, dtype: int64\n"
     ]
    },
    {
     "data": {
      "image/png": "[encoded data removed]",
      "text/plain": [
       "<Figure size 640x480 with 1 Axes>"
      ]
     },
     "metadata": {},
     "output_type": "display_data"
    }
   ],
   "source": [
    "num_paises = df.groupby('hotel')['country'].nunique()\n",
    "\n",
    "sns.barplot(x=num_paises.index, y=num_paises.values)\n",
    "plt.title('Número de países distintos por hotel')\n",
    "plt.xlabel('Hotel')\n",
    "plt.ylabel('Paises')\n",
    "plt.show()"
   ]
  },
  {
   "cell_type": "code",
   "execution_count": 40,
   "id": "eb4e5270",
   "metadata": {},
   "outputs": [
    {
     "data": {
      "application/vnd.plotly.v1+json": {
       "config": {
        "plotlyServerURL": "https://plot.ly"
       },
       "data": [
        {
         "coloraxis": "coloraxis",
         "geo": "geo",
         "hovertemplate": "country=%{location}<br>reservas=%{z}<extra></extra>",
         "locations": [
          "PRT",
          "GBR",
          "ESP",
          "IRL",
          "FRA",
          "DEU",
          "CN",
          "NLD",
          "USA",
          "ITA",
          "BEL",
          "CHE",
          "BRA",
          "POL",
          "SWE",
          "AUT",
          "RUS",
          "ROU",
          "FIN",
          "CHN",
          "NOR",
          "AUS",
          "LUX",
          "MAR",
          "DNK",
          "ARG",
          "HUN",
          "LTU",
          "IND",
          "LVA",
          "EST",
          "ISR",
          "CZE",
          "AGO",
          "TUR",
          "UKR",
          "ZAF",
          "CHL",
          "COL",
          "PHL",
          "NZL",
          "GIB",
          "DZA",
          "TWN",
          "SVK",
          "HRV",
          "GEO",
          "ARE",
          "OMN",
          "SVN",
          "NGA",
          "GRC",
          "MYS",
          "KOR",
          "PRI",
          "JPN",
          "URY",
          "CYP",
          "SRB",
          "BLR",
          "MOZ",
          "LBN",
          "MDV",
          "ISL",
          "MEX",
          "THA",
          "IDN",
          "IRN",
          "KAZ",
          "BGR",
          "CPV",
          "JAM",
          "AND",
          "HKG",
          "CUB",
          "PAK",
          "SGP",
          "SUR",
          "CAF",
          "AZE",
          "DOM",
          "JEY",
          "VEN",
          "KWT",
          "ALB",
          "ECU",
          "MWI",
          "CMR",
          "MLT",
          "VNM",
          "ZWE",
          "CRI",
          "ARM",
          "CIV",
          "JOR",
          "TUN",
          "SMR",
          "BWA",
          "ZMB",
          "CYM",
          "FJI",
          "MKD",
          "BHR",
          "SEN",
          "SYC",
          "GGY",
          "UGA",
          "MUS",
          "COM",
          "SAU",
          "BDI",
          "SYR",
          "LKA",
          "BIH",
          "EGY",
          "PER",
          "PLW",
          "MDG",
          "QAT",
          "NPL",
          "UZB",
          "BHS",
          "MAC",
          "TGO",
          "DJI"
         ],
         "name": "",
         "type": "choropleth",
         "z": [
          17630,
          6814,
          3957,
          2166,
          1611,
          1203,
          710,
          514,
          479,
          459,
          448,
          435,
          430,
          333,
          304,
          210,
          189,
          177,
          151,
          134,
          123,
          87,
          80,
          75,
          65,
          57,
          47,
          46,
          37,
          33,
          33,
          28,
          27,
          24,
          23,
          23,
          18,
          17,
          16,
          16,
          14,
          13,
          12,
          12,
          12,
          11,
          11,
          11,
          11,
          11,
          10,
          10,
          10,
          9,
          9,
          9,
          8,
          8,
          7,
          7,
          6,
          6,
          6,
          6,
          6,
          6,
          5,
          5,
          5,
          5,
          5,
          5,
          5,
          4,
          4,
          4,
          4,
          4,
          3,
          3,
          3,
          3,
          3,
          3,
          3,
          2,
          2,
          2,
          2,
          2,
          2,
          2,
          2,
          2,
          2,
          1,
          1,
          1,
          1,
          1,
          1,
          1,
          1,
          1,
          1,
          1,
          1,
          1,
          1,
          1,
          1,
          1,
          1,
          1,
          1,
          1,
          1,
          1,
          1,
          1,
          1,
          1,
          1,
          1,
          1
         ]
        }
       ],
       "layout": {
        "coloraxis": {
         "colorbar": {
          "title": {
           "text": "reservas"
          }
         },
         "colorscale": [
          [
           0,
           "rgb(247,251,255)"
          ],
          [
           0.125,
           "rgb(222,235,247)"
          ],
          [
           0.25,
           "rgb(198,219,239)"
          ],
          [
           0.375,
           "rgb(158,202,225)"
          ],
          [
           0.5,
           "rgb(107,174,214)"
          ],
          [
           0.625,
           "rgb(66,146,198)"
          ],
          [
           0.75,
           "rgb(33,113,181)"
          ],
          [
           0.875,
           "rgb(8,81,156)"
          ],
          [
           1,
           "rgb(8,48,107)"
          ]
         ]
        },
        "geo": {
         "center": {},
         "domain": {
          "x": [
           0,
           1
          ],
          "y": [
           0,
           1
          ]
         }
        },
        "legend": {
         "tracegroupgap": 0
        },
        "template": {
         "data": {
          "bar": [
           {
            "error_x": {
             "color": "#2a3f5f"
            },
            "error_y": {
             "color": "#2a3f5f"
            },
            "marker": {
             "line": {
              "color": "#E5ECF6",
              "width": 0.5
             },
             "pattern": {
              "fillmode": "overlay",
              "size": 10,
              "solidity": 0.2
             }
            },
            "type": "bar"
           }
          ],
          "barpolar": [
           {
            "marker": {
             "line": {
              "color": "#E5ECF6",
              "width": 0.5
             },
             "pattern": {
              "fillmode": "overlay",
              "size": 10,
              "solidity": 0.2
             }
            },
            "type": "barpolar"
           }
          ],
          "carpet": [
           {
            "aaxis": {
             "endlinecolor": "#2a3f5f",
             "gridcolor": "white",
             "linecolor": "white",
             "minorgridcolor": "white",
             "startlinecolor": "#2a3f5f"
            },
            "baxis": {
             "endlinecolor": "#2a3f5f",
             "gridcolor": "white",
             "linecolor": "white",
             "minorgridcolor": "white",
             "startlinecolor": "#2a3f5f"
            },
            "type": "carpet"
           }
          ],
          "choropleth": [
           {
            "colorbar": {
             "outlinewidth": 0,
             "ticks": ""
            },
            "type": "choropleth"
           }
          ],
          "contour": [
           {
            "colorbar": {
             "outlinewidth": 0,
             "ticks": ""
            },
            "colorscale": [
             [
              0,
              "#0d0887"
             ],
             [
              0.1111111111111111,
              "#46039f"
             ],
             [
              0.2222222222222222,
              "#7201a8"
             ],
             [
              0.3333333333333333,
              "#9c179e"
             ],
             [
              0.4444444444444444,
              "#bd3786"
             ],
             [
              0.5555555555555556,
              "#d8576b"
             ],
             [
              0.6666666666666666,
              "#ed7953"
             ],
             [
              0.7777777777777778,
              "#fb9f3a"
             ],
             [
              0.8888888888888888,
              "#fdca26"
             ],
             [
              1,
              "#f0f921"
             ]
            ],
            "type": "contour"
           }
          ],
          "contourcarpet": [
           {
            "colorbar": {
             "outlinewidth": 0,
             "ticks": ""
            },
            "type": "contourcarpet"
           }
          ],
          "heatmap": [
           {
            "colorbar": {
             "outlinewidth": 0,
             "ticks": ""
            },
            "colorscale": [
             [
              0,
              "#0d0887"
             ],
             [
              0.1111111111111111,
              "#46039f"
             ],
             [
              0.2222222222222222,
              "#7201a8"
             ],
             [
              0.3333333333333333,
              "#9c179e"
             ],
             [
              0.4444444444444444,
              "#bd3786"
             ],
             [
              0.5555555555555556,
              "#d8576b"
             ],
             [
              0.6666666666666666,
              "#ed7953"
             ],
             [
              0.7777777777777778,
              "#fb9f3a"
             ],
             [
              0.8888888888888888,
              "#fdca26"
             ],
             [
              1,
              "#f0f921"
             ]
            ],
            "type": "heatmap"
           }
          ],
          "heatmapgl": [
           {
            "colorbar": {
             "outlinewidth": 0,
             "ticks": ""
            },
            "colorscale": [
             [
              0,
              "#0d0887"
             ],
             [
              0.1111111111111111,
              "#46039f"
             ],
             [
              0.2222222222222222,
              "#7201a8"
             ],
             [
              0.3333333333333333,
              "#9c179e"
             ],
             [
              0.4444444444444444,
              "#bd3786"
             ],
             [
              0.5555555555555556,
              "#d8576b"
             ],
             [
              0.6666666666666666,
              "#ed7953"
             ],
             [
              0.7777777777777778,
              "#fb9f3a"
             ],
             [
              0.8888888888888888,
              "#fdca26"
             ],
             [
              1,
              "#f0f921"
             ]
            ],
            "type": "heatmapgl"
           }
          ],
          "histogram": [
           {
            "marker": {
             "pattern": {
              "fillmode": "overlay",
              "size": 10,
              "solidity": 0.2
             }
            },
            "type": "histogram"
           }
          ],
          "histogram2d": [
           {
            "colorbar": {
             "outlinewidth": 0,
             "ticks": ""
            },
            "colorscale": [
             [
              0,
              "#0d0887"
             ],
             [
              0.1111111111111111,
              "#46039f"
             ],
             [
              0.2222222222222222,
              "#7201a8"
             ],
             [
              0.3333333333333333,
              "#9c179e"
             ],
             [
              0.4444444444444444,
              "#bd3786"
             ],
             [
              0.5555555555555556,
              "#d8576b"
             ],
             [
              0.6666666666666666,
              "#ed7953"
             ],
             [
              0.7777777777777778,
              "#fb9f3a"
             ],
             [
              0.8888888888888888,
              "#fdca26"
             ],
             [
              1,
              "#f0f921"
             ]
            ],
            "type": "histogram2d"
           }
          ],
          "histogram2dcontour": [
           {
            "colorbar": {
             "outlinewidth": 0,
             "ticks": ""
            },
            "colorscale": [
             [
              0,
              "#0d0887"
             ],
             [
              0.1111111111111111,
              "#46039f"
             ],
             [
              0.2222222222222222,
              "#7201a8"
             ],
             [
              0.3333333333333333,
              "#9c179e"
             ],
             [
              0.4444444444444444,
              "#bd3786"
             ],
             [
              0.5555555555555556,
              "#d8576b"
             ],
             [
              0.6666666666666666,
              "#ed7953"
             ],
             [
              0.7777777777777778,
              "#fb9f3a"
             ],
             [
              0.8888888888888888,
              "#fdca26"
             ],
             [
              1,
              "#f0f921"
             ]
            ],
            "type": "histogram2dcontour"
           }
          ],
          "mesh3d": [
           {
            "colorbar": {
             "outlinewidth": 0,
             "ticks": ""
            },
            "type": "mesh3d"
           }
          ],
          "parcoords": [
           {
            "line": {
             "colorbar": {
              "outlinewidth": 0,
              "ticks": ""
             }
            },
            "type": "parcoords"
           }
          ],
          "pie": [
           {
            "automargin": true,
            "type": "pie"
           }
          ],
          "scatter": [
           {
            "fillpattern": {
             "fillmode": "overlay",
             "size": 10,
             "solidity": 0.2
            },
            "type": "scatter"
           }
          ],
          "scatter3d": [
           {
            "line": {
             "colorbar": {
              "outlinewidth": 0,
              "ticks": ""
             }
            },
            "marker": {
             "colorbar": {
              "outlinewidth": 0,
              "ticks": ""
             }
            },
            "type": "scatter3d"
           }
          ],
          "scattercarpet": [
           {
            "marker": {
             "colorbar": {
              "outlinewidth": 0,
              "ticks": ""
             }
            },
            "type": "scattercarpet"
           }
          ],
          "scattergeo": [
           {
            "marker": {
             "colorbar": {
              "outlinewidth": 0,
              "ticks": ""
             }
            },
            "type": "scattergeo"
           }
          ],
          "scattergl": [
           {
            "marker": {
             "colorbar": {
              "outlinewidth": 0,
              "ticks": ""
             }
            },
            "type": "scattergl"
           }
          ],
          "scattermapbox": [
           {
            "marker": {
             "colorbar": {
              "outlinewidth": 0,
              "ticks": ""
             }
            },
            "type": "scattermapbox"
           }
          ],
          "scatterpolar": [
           {
            "marker": {
             "colorbar": {
              "outlinewidth": 0,
              "ticks": ""
             }
            },
            "type": "scatterpolar"
           }
          ],
          "scatterpolargl": [
           {
            "marker": {
             "colorbar": {
              "outlinewidth": 0,
              "ticks": ""
             }
            },
            "type": "scatterpolargl"
           }
          ],
          "scatterternary": [
           {
            "marker": {
             "colorbar": {
              "outlinewidth": 0,
              "ticks": ""
             }
            },
            "type": "scatterternary"
           }
          ],
          "surface": [
           {
            "colorbar": {
             "outlinewidth": 0,
             "ticks": ""
            },
            "colorscale": [
             [
              0,
              "#0d0887"
             ],
             [
              0.1111111111111111,
              "#46039f"
             ],
             [
              0.2222222222222222,
              "#7201a8"
             ],
             [
              0.3333333333333333,
              "#9c179e"
             ],
             [
              0.4444444444444444,
              "#bd3786"
             ],
             [
              0.5555555555555556,
              "#d8576b"
             ],
             [
              0.6666666666666666,
              "#ed7953"
             ],
             [
              0.7777777777777778,
              "#fb9f3a"
             ],
             [
              0.8888888888888888,
              "#fdca26"
             ],
             [
              1,
              "#f0f921"
             ]
            ],
            "type": "surface"
           }
          ],
          "table": [
           {
            "cells": {
             "fill": {
              "color": "#EBF0F8"
             },
             "line": {
              "color": "white"
             }
            },
            "header": {
             "fill": {
              "color": "#C8D4E3"
             },
             "line": {
              "color": "white"
             }
            },
            "type": "table"
           }
          ]
         },
         "layout": {
          "annotationdefaults": {
           "arrowcolor": "#2a3f5f",
           "arrowhead": 0,
           "arrowwidth": 1
          },
          "autotypenumbers": "strict",
          "coloraxis": {
           "colorbar": {
            "outlinewidth": 0,
            "ticks": ""
           }
          },
          "colorscale": {
           "diverging": [
            [
             0,
             "#8e0152"
            ],
            [
             0.1,
             "#c51b7d"
            ],
            [
             0.2,
             "#de77ae"
            ],
            [
             0.3,
             "#f1b6da"
            ],
            [
             0.4,
             "#fde0ef"
            ],
            [
             0.5,
             "#f7f7f7"
            ],
            [
             0.6,
             "#e6f5d0"
            ],
            [
             0.7,
             "#b8e186"
            ],
            [
             0.8,
             "#7fbc41"
            ],
            [
             0.9,
             "#4d9221"
            ],
            [
             1,
             "#276419"
            ]
           ],
           "sequential": [
            [
             0,
             "#0d0887"
            ],
            [
             0.1111111111111111,
             "#46039f"
            ],
            [
             0.2222222222222222,
             "#7201a8"
            ],
            [
             0.3333333333333333,
             "#9c179e"
            ],
            [
             0.4444444444444444,
             "#bd3786"
            ],
            [
             0.5555555555555556,
             "#d8576b"
            ],
            [
             0.6666666666666666,
             "#ed7953"
            ],
            [
             0.7777777777777778,
             "#fb9f3a"
            ],
            [
             0.8888888888888888,
             "#fdca26"
            ],
            [
             1,
             "#f0f921"
            ]
           ],
           "sequentialminus": [
            [
             0,
             "#0d0887"
            ],
            [
             0.1111111111111111,
             "#46039f"
            ],
            [
             0.2222222222222222,
             "#7201a8"
            ],
            [
             0.3333333333333333,
             "#9c179e"
            ],
            [
             0.4444444444444444,
             "#bd3786"
            ],
            [
             0.5555555555555556,
             "#d8576b"
            ],
            [
             0.6666666666666666,
             "#ed7953"
            ],
            [
             0.7777777777777778,
             "#fb9f3a"
            ],
            [
             0.8888888888888888,
             "#fdca26"
            ],
            [
             1,
             "#f0f921"
            ]
           ]
          },
          "colorway": [
           "#636efa",
           "#EF553B",
           "#00cc96",
           "#ab63fa",
           "#FFA15A",
           "#19d3f3",
           "#FF6692",
           "#B6E880",
           "#FF97FF",
           "#FECB52"
          ],
          "font": {
           "color": "#2a3f5f"
          },
          "geo": {
           "bgcolor": "white",
           "lakecolor": "white",
           "landcolor": "#E5ECF6",
           "showlakes": true,
           "showland": true,
           "subunitcolor": "white"
          },
          "hoverlabel": {
           "align": "left"
          },
          "hovermode": "closest",
          "mapbox": {
           "style": "light"
          },
          "paper_bgcolor": "white",
          "plot_bgcolor": "#E5ECF6",
          "polar": {
           "angularaxis": {
            "gridcolor": "white",
            "linecolor": "white",
            "ticks": ""
           },
           "bgcolor": "#E5ECF6",
           "radialaxis": {
            "gridcolor": "white",
            "linecolor": "white",
            "ticks": ""
           }
          },
          "scene": {
           "xaxis": {
            "backgroundcolor": "#E5ECF6",
            "gridcolor": "white",
            "gridwidth": 2,
            "linecolor": "white",
            "showbackground": true,
            "ticks": "",
            "zerolinecolor": "white"
           },
           "yaxis": {
            "backgroundcolor": "#E5ECF6",
            "gridcolor": "white",
            "gridwidth": 2,
            "linecolor": "white",
            "showbackground": true,
            "ticks": "",
            "zerolinecolor": "white"
           },
           "zaxis": {
            "backgroundcolor": "#E5ECF6",
            "gridcolor": "white",
            "gridwidth": 2,
            "linecolor": "white",
            "showbackground": true,
            "ticks": "",
            "zerolinecolor": "white"
           }
          },
          "shapedefaults": {
           "line": {
            "color": "#2a3f5f"
           }
          },
          "ternary": {
           "aaxis": {
            "gridcolor": "white",
            "linecolor": "white",
            "ticks": ""
           },
           "baxis": {
            "gridcolor": "white",
            "linecolor": "white",
            "ticks": ""
           },
           "bgcolor": "#E5ECF6",
           "caxis": {
            "gridcolor": "white",
            "linecolor": "white",
            "ticks": ""
           }
          },
          "title": {
           "x": 0.05
          },
          "xaxis": {
           "automargin": true,
           "gridcolor": "white",
           "linecolor": "white",
           "ticks": "",
           "title": {
            "standoff": 15
           },
           "zerolinecolor": "white",
           "zerolinewidth": 2
          },
          "yaxis": {
           "automargin": true,
           "gridcolor": "white",
           "linecolor": "white",
           "ticks": "",
           "title": {
            "standoff": 15
           },
           "zerolinecolor": "white",
           "zerolinewidth": 2
          }
         }
        },
        "title": {
         "text": "Reservas por país - Resort Hotel"
        }
       }
      }
     },
     "metadata": {},
     "output_type": "display_data"
    },
    {
     "data": {
      "application/vnd.plotly.v1+json": {
       "config": {
        "plotlyServerURL": "https://plot.ly"
       },
       "data": [
        {
         "coloraxis": "coloraxis",
         "geo": "geo",
         "hovertemplate": "country=%{location}<br>reservas=%{z}<extra></extra>",
         "locations": [
          "PRT",
          "FRA",
          "DEU",
          "GBR",
          "ESP",
          "ITA",
          "BEL",
          "BRA",
          "USA",
          "NLD",
          "CHE",
          "IRL",
          "AUT",
          "CHN",
          "SWE",
          "ISR",
          "POL",
          "CN",
          "NOR",
          "RUS",
          "DNK",
          "AUS",
          "AGO",
          "ROU",
          "FIN",
          "TUR",
          "LUX",
          "JPN",
          "MAR",
          "HUN",
          "ARG",
          "CZE",
          "KOR",
          "GRC",
          "IND",
          "SRB",
          "DZA",
          "HRV",
          "MEX",
          "IRN",
          "BGR",
          "ZAF",
          "MOZ",
          "NZL",
          "COL",
          "SVK",
          "THA",
          "ISL",
          "EST",
          "CHL",
          "SAU",
          "SVN",
          "UKR",
          "CYP",
          "ARE",
          "TWN",
          "TUN",
          "LTU",
          "SGP",
          "EGY",
          "IDN",
          "PER",
          "HKG",
          "ECU",
          "LBN",
          "PHL",
          "URY",
          "NGA",
          "VEN",
          "LVA",
          "JOR",
          "CPV",
          "BLR",
          "MYS",
          "CRI",
          "MLT",
          "MAC",
          "KAZ",
          "IRQ",
          "QAT",
          "AZE",
          "KWT",
          "BIH",
          "BGD",
          "DOM",
          "GEO",
          "PAK",
          "BOL",
          "SEN",
          "TJK",
          "GNB",
          "ALB",
          "MKD",
          "PAN",
          "CMR",
          "LBY",
          "OMN",
          "VNM",
          "MUS",
          "LKA",
          "MDV",
          "ARM",
          "KEN",
          "MNE",
          "GIB",
          "TZA",
          "JEY",
          "FRO",
          "GTM",
          "GHA",
          "BRB",
          "MCO",
          "BHR",
          "CUB",
          "CIV",
          "PRY",
          "GAB",
          "UZB",
          "TMP",
          "LIE",
          "BEN",
          "PRI",
          "ETH",
          "STP",
          "KNA",
          "AND",
          "CAF",
          "SYR",
          "KHM",
          "IMN",
          "RWA",
          "MYT",
          "ZWE",
          "GGY",
          "SLV",
          "GLP",
          "ATA",
          "LAO",
          "ABW",
          "HND",
          "ZMB",
          "VGB",
          "BFA",
          "MMR",
          "UMI",
          "NIC",
          "JAM",
          "SYC",
          "MLI",
          "NAM",
          "GUY",
          "UGA",
          "PYF",
          "DMA",
          "AIA",
          "TGO",
          "ASM",
          "LCA",
          "MRT",
          "SUR",
          "KIR",
          "NCL",
          "SDN",
          "ATF",
          "SLE",
          "COM"
         ],
         "name": "",
         "type": "choropleth",
         "z": [
          30960,
          8804,
          6084,
          5315,
          4611,
          3307,
          1894,
          1794,
          1618,
          1590,
          1295,
          1209,
          1053,
          865,
          720,
          641,
          586,
          569,
          484,
          443,
          370,
          339,
          338,
          323,
          296,
          225,
          207,
          188,
          184,
          183,
          157,
          144,
          124,
          118,
          115,
          94,
          91,
          89,
          79,
          78,
          70,
          62,
          61,
          60,
          55,
          53,
          53,
          51,
          50,
          48,
          47,
          46,
          45,
          43,
          40,
          39,
          38,
          35,
          35,
          31,
          30,
          28,
          25,
          25,
          25,
          24,
          24,
          24,
          23,
          22,
          19,
          19,
          19,
          18,
          17,
          16,
          15,
          14,
          14,
          14,
          14,
          13,
          12,
          12,
          11,
          11,
          10,
          10,
          10,
          9,
          9,
          9,
          9,
          9,
          8,
          8,
          7,
          6,
          6,
          6,
          6,
          6,
          6,
          5,
          5,
          5,
          5,
          5,
          4,
          4,
          4,
          4,
          4,
          4,
          4,
          4,
          4,
          3,
          3,
          3,
          3,
          3,
          3,
          2,
          2,
          2,
          2,
          2,
          2,
          2,
          2,
          2,
          2,
          2,
          2,
          2,
          2,
          2,
          2,
          1,
          1,
          1,
          1,
          1,
          1,
          1,
          1,
          1,
          1,
          1,
          1,
          1,
          1,
          1,
          1,
          1,
          1,
          1,
          1,
          1,
          1,
          1,
          1,
          1,
          1,
          1
         ]
        }
       ],
       "layout": {
        "coloraxis": {
         "colorbar": {
          "title": {
           "text": "reservas"
          }
         },
         "colorscale": [
          [
           0,
           "rgb(247,251,255)"
          ],
          [
           0.125,
           "rgb(222,235,247)"
          ],
          [
           0.25,
           "rgb(198,219,239)"
          ],
          [
           0.375,
           "rgb(158,202,225)"
          ],
          [
           0.5,
           "rgb(107,174,214)"
          ],
          [
           0.625,
           "rgb(66,146,198)"
          ],
          [
           0.75,
           "rgb(33,113,181)"
          ],
          [
           0.875,
           "rgb(8,81,156)"
          ],
          [
           1,
           "rgb(8,48,107)"
          ]
         ]
        },
        "geo": {
         "center": {},
         "domain": {
          "x": [
           0,
           1
          ],
          "y": [
           0,
           1
          ]
         }
        },
        "legend": {
         "tracegroupgap": 0
        },
        "template": {
         "data": {
          "bar": [
           {
            "error_x": {
             "color": "#2a3f5f"
            },
            "error_y": {
             "color": "#2a3f5f"
            },
            "marker": {
             "line": {
              "color": "#E5ECF6",
              "width": 0.5
             },
             "pattern": {
              "fillmode": "overlay",
              "size": 10,
              "solidity": 0.2
             }
            },
            "type": "bar"
           }
          ],
          "barpolar": [
           {
            "marker": {
             "line": {
              "color": "#E5ECF6",
              "width": 0.5
             },
             "pattern": {
              "fillmode": "overlay",
              "size": 10,
              "solidity": 0.2
             }
            },
            "type": "barpolar"
           }
          ],
          "carpet": [
           {
            "aaxis": {
             "endlinecolor": "#2a3f5f",
             "gridcolor": "white",
             "linecolor": "white",
             "minorgridcolor": "white",
             "startlinecolor": "#2a3f5f"
            },
            "baxis": {
             "endlinecolor": "#2a3f5f",
             "gridcolor": "white",
             "linecolor": "white",
             "minorgridcolor": "white",
             "startlinecolor": "#2a3f5f"
            },
            "type": "carpet"
           }
          ],
          "choropleth": [
           {
            "colorbar": {
             "outlinewidth": 0,
             "ticks": ""
            },
            "type": "choropleth"
           }
          ],
          "contour": [
           {
            "colorbar": {
             "outlinewidth": 0,
             "ticks": ""
            },
            "colorscale": [
             [
              0,
              "#0d0887"
             ],
             [
              0.1111111111111111,
              "#46039f"
             ],
             [
              0.2222222222222222,
              "#7201a8"
             ],
             [
              0.3333333333333333,
              "#9c179e"
             ],
             [
              0.4444444444444444,
              "#bd3786"
             ],
             [
              0.5555555555555556,
              "#d8576b"
             ],
             [
              0.6666666666666666,
              "#ed7953"
             ],
             [
              0.7777777777777778,
              "#fb9f3a"
             ],
             [
              0.8888888888888888,
              "#fdca26"
             ],
             [
              1,
              "#f0f921"
             ]
            ],
            "type": "contour"
           }
          ],
          "contourcarpet": [
           {
            "colorbar": {
             "outlinewidth": 0,
             "ticks": ""
            },
            "type": "contourcarpet"
           }
          ],
          "heatmap": [
           {
            "colorbar": {
             "outlinewidth": 0,
             "ticks": ""
            },
            "colorscale": [
             [
              0,
              "#0d0887"
             ],
             [
              0.1111111111111111,
              "#46039f"
             ],
             [
              0.2222222222222222,
              "#7201a8"
             ],
             [
              0.3333333333333333,
              "#9c179e"
             ],
             [
              0.4444444444444444,
              "#bd3786"
             ],
             [
              0.5555555555555556,
              "#d8576b"
             ],
             [
              0.6666666666666666,
              "#ed7953"
             ],
             [
              0.7777777777777778,
              "#fb9f3a"
             ],
             [
              0.8888888888888888,
              "#fdca26"
             ],
             [
              1,
              "#f0f921"
             ]
            ],
            "type": "heatmap"
           }
          ],
          "heatmapgl": [
           {
            "colorbar": {
             "outlinewidth": 0,
             "ticks": ""
            },
            "colorscale": [
             [
              0,
              "#0d0887"
             ],
             [
              0.1111111111111111,
              "#46039f"
             ],
             [
              0.2222222222222222,
              "#7201a8"
             ],
             [
              0.3333333333333333,
              "#9c179e"
             ],
             [
              0.4444444444444444,
              "#bd3786"
             ],
             [
              0.5555555555555556,
              "#d8576b"
             ],
             [
              0.6666666666666666,
              "#ed7953"
             ],
             [
              0.7777777777777778,
              "#fb9f3a"
             ],
             [
              0.8888888888888888,
              "#fdca26"
             ],
             [
              1,
              "#f0f921"
             ]
            ],
            "type": "heatmapgl"
           }
          ],
          "histogram": [
           {
            "marker": {
             "pattern": {
              "fillmode": "overlay",
              "size": 10,
              "solidity": 0.2
             }
            },
            "type": "histogram"
           }
          ],
          "histogram2d": [
           {
            "colorbar": {
             "outlinewidth": 0,
             "ticks": ""
            },
            "colorscale": [
             [
              0,
              "#0d0887"
             ],
             [
              0.1111111111111111,
              "#46039f"
             ],
             [
              0.2222222222222222,
              "#7201a8"
             ],
             [
              0.3333333333333333,
              "#9c179e"
             ],
             [
              0.4444444444444444,
              "#bd3786"
             ],
             [
              0.5555555555555556,
              "#d8576b"
             ],
             [
              0.6666666666666666,
              "#ed7953"
             ],
             [
              0.7777777777777778,
              "#fb9f3a"
             ],
             [
              0.8888888888888888,
              "#fdca26"
             ],
             [
              1,
              "#f0f921"
             ]
            ],
            "type": "histogram2d"
           }
          ],
          "histogram2dcontour": [
           {
            "colorbar": {
             "outlinewidth": 0,
             "ticks": ""
            },
            "colorscale": [
             [
              0,
              "#0d0887"
             ],
             [
              0.1111111111111111,
              "#46039f"
             ],
             [
              0.2222222222222222,
              "#7201a8"
             ],
             [
              0.3333333333333333,
              "#9c179e"
             ],
             [
              0.4444444444444444,
              "#bd3786"
             ],
             [
              0.5555555555555556,
              "#d8576b"
             ],
             [
              0.6666666666666666,
              "#ed7953"
             ],
             [
              0.7777777777777778,
              "#fb9f3a"
             ],
             [
              0.8888888888888888,
              "#fdca26"
             ],
             [
              1,
              "#f0f921"
             ]
            ],
            "type": "histogram2dcontour"
           }
          ],
          "mesh3d": [
           {
            "colorbar": {
             "outlinewidth": 0,
             "ticks": ""
            },
            "type": "mesh3d"
           }
          ],
          "parcoords": [
           {
            "line": {
             "colorbar": {
              "outlinewidth": 0,
              "ticks": ""
             }
            },
            "type": "parcoords"
           }
          ],
          "pie": [
           {
            "automargin": true,
            "type": "pie"
           }
          ],
          "scatter": [
           {
            "fillpattern": {
             "fillmode": "overlay",
             "size": 10,
             "solidity": 0.2
            },
            "type": "scatter"
           }
          ],
          "scatter3d": [
           {
            "line": {
             "colorbar": {
              "outlinewidth": 0,
              "ticks": ""
             }
            },
            "marker": {
             "colorbar": {
              "outlinewidth": 0,
              "ticks": ""
             }
            },
            "type": "scatter3d"
           }
          ],
          "scattercarpet": [
           {
            "marker": {
             "colorbar": {
              "outlinewidth": 0,
              "ticks": ""
             }
            },
            "type": "scattercarpet"
           }
          ],
          "scattergeo": [
           {
            "marker": {
             "colorbar": {
              "outlinewidth": 0,
              "ticks": ""
             }
            },
            "type": "scattergeo"
           }
          ],
          "scattergl": [
           {
            "marker": {
             "colorbar": {
              "outlinewidth": 0,
              "ticks": ""
             }
            },
            "type": "scattergl"
           }
          ],
          "scattermapbox": [
           {
            "marker": {
             "colorbar": {
              "outlinewidth": 0,
              "ticks": ""
             }
            },
            "type": "scattermapbox"
           }
          ],
          "scatterpolar": [
           {
            "marker": {
             "colorbar": {
              "outlinewidth": 0,
              "ticks": ""
             }
            },
            "type": "scatterpolar"
           }
          ],
          "scatterpolargl": [
           {
            "marker": {
             "colorbar": {
              "outlinewidth": 0,
              "ticks": ""
             }
            },
            "type": "scatterpolargl"
           }
          ],
          "scatterternary": [
           {
            "marker": {
             "colorbar": {
              "outlinewidth": 0,
              "ticks": ""
             }
            },
            "type": "scatterternary"
           }
          ],
          "surface": [
           {
            "colorbar": {
             "outlinewidth": 0,
             "ticks": ""
            },
            "colorscale": [
             [
              0,
              "#0d0887"
             ],
             [
              0.1111111111111111,
              "#46039f"
             ],
             [
              0.2222222222222222,
              "#7201a8"
             ],
             [
              0.3333333333333333,
              "#9c179e"
             ],
             [
              0.4444444444444444,
              "#bd3786"
             ],
             [
              0.5555555555555556,
              "#d8576b"
             ],
             [
              0.6666666666666666,
              "#ed7953"
             ],
             [
              0.7777777777777778,
              "#fb9f3a"
             ],
             [
              0.8888888888888888,
              "#fdca26"
             ],
             [
              1,
              "#f0f921"
             ]
            ],
            "type": "surface"
           }
          ],
          "table": [
           {
            "cells": {
             "fill": {
              "color": "#EBF0F8"
             },
             "line": {
              "color": "white"
             }
            },
            "header": {
             "fill": {
              "color": "#C8D4E3"
             },
             "line": {
              "color": "white"
             }
            },
            "type": "table"
           }
          ]
         },
         "layout": {
          "annotationdefaults": {
           "arrowcolor": "#2a3f5f",
           "arrowhead": 0,
           "arrowwidth": 1
          },
          "autotypenumbers": "strict",
          "coloraxis": {
           "colorbar": {
            "outlinewidth": 0,
            "ticks": ""
           }
          },
          "colorscale": {
           "diverging": [
            [
             0,
             "#8e0152"
            ],
            [
             0.1,
             "#c51b7d"
            ],
            [
             0.2,
             "#de77ae"
            ],
            [
             0.3,
             "#f1b6da"
            ],
            [
             0.4,
             "#fde0ef"
            ],
            [
             0.5,
             "#f7f7f7"
            ],
            [
             0.6,
             "#e6f5d0"
            ],
            [
             0.7,
             "#b8e186"
            ],
            [
             0.8,
             "#7fbc41"
            ],
            [
             0.9,
             "#4d9221"
            ],
            [
             1,
             "#276419"
            ]
           ],
           "sequential": [
            [
             0,
             "#0d0887"
            ],
            [
             0.1111111111111111,
             "#46039f"
            ],
            [
             0.2222222222222222,
             "#7201a8"
            ],
            [
             0.3333333333333333,
             "#9c179e"
            ],
            [
             0.4444444444444444,
             "#bd3786"
            ],
            [
             0.5555555555555556,
             "#d8576b"
            ],
            [
             0.6666666666666666,
             "#ed7953"
            ],
            [
             0.7777777777777778,
             "#fb9f3a"
            ],
            [
             0.8888888888888888,
             "#fdca26"
            ],
            [
             1,
             "#f0f921"
            ]
           ],
           "sequentialminus": [
            [
             0,
             "#0d0887"
            ],
            [
             0.1111111111111111,
             "#46039f"
            ],
            [
             0.2222222222222222,
             "#7201a8"
            ],
            [
             0.3333333333333333,
             "#9c179e"
            ],
            [
             0.4444444444444444,
             "#bd3786"
            ],
            [
             0.5555555555555556,
             "#d8576b"
            ],
            [
             0.6666666666666666,
             "#ed7953"
            ],
            [
             0.7777777777777778,
             "#fb9f3a"
            ],
            [
             0.8888888888888888,
             "#fdca26"
            ],
            [
             1,
             "#f0f921"
            ]
           ]
          },
          "colorway": [
           "#636efa",
           "#EF553B",
           "#00cc96",
           "#ab63fa",
           "#FFA15A",
           "#19d3f3",
           "#FF6692",
           "#B6E880",
           "#FF97FF",
           "#FECB52"
          ],
          "font": {
           "color": "#2a3f5f"
          },
          "geo": {
           "bgcolor": "white",
           "lakecolor": "white",
           "landcolor": "#E5ECF6",
           "showlakes": true,
           "showland": true,
           "subunitcolor": "white"
          },
          "hoverlabel": {
           "align": "left"
          },
          "hovermode": "closest",
          "mapbox": {
           "style": "light"
          },
          "paper_bgcolor": "white",
          "plot_bgcolor": "#E5ECF6",
          "polar": {
           "angularaxis": {
            "gridcolor": "white",
            "linecolor": "white",
            "ticks": ""
           },
           "bgcolor": "#E5ECF6",
           "radialaxis": {
            "gridcolor": "white",
            "linecolor": "white",
            "ticks": ""
           }
          },
          "scene": {
           "xaxis": {
            "backgroundcolor": "#E5ECF6",
            "gridcolor": "white",
            "gridwidth": 2,
            "linecolor": "white",
            "showbackground": true,
            "ticks": "",
            "zerolinecolor": "white"
           },
           "yaxis": {
            "backgroundcolor": "#E5ECF6",
            "gridcolor": "white",
            "gridwidth": 2,
            "linecolor": "white",
            "showbackground": true,
            "ticks": "",
            "zerolinecolor": "white"
           },
           "zaxis": {
            "backgroundcolor": "#E5ECF6",
            "gridcolor": "white",
            "gridwidth": 2,
            "linecolor": "white",
            "showbackground": true,
            "ticks": "",
            "zerolinecolor": "white"
           }
          },
          "shapedefaults": {
           "line": {
            "color": "#2a3f5f"
           }
          },
          "ternary": {
           "aaxis": {
            "gridcolor": "white",
            "linecolor": "white",
            "ticks": ""
           },
           "baxis": {
            "gridcolor": "white",
            "linecolor": "white",
            "ticks": ""
           },
           "bgcolor": "#E5ECF6",
           "caxis": {
            "gridcolor": "white",
            "linecolor": "white",
            "ticks": ""
           }
          },
          "title": {
           "x": 0.05
          },
          "xaxis": {
           "automargin": true,
           "gridcolor": "white",
           "linecolor": "white",
           "ticks": "",
           "title": {
            "standoff": 15
           },
           "zerolinecolor": "white",
           "zerolinewidth": 2
          },
          "yaxis": {
           "automargin": true,
           "gridcolor": "white",
           "linecolor": "white",
           "ticks": "",
           "title": {
            "standoff": 15
           },
           "zerolinecolor": "white",
           "zerolinewidth": 2
          }
         }
        },
        "title": {
         "text": "Reservas por país - City Hotel"
        }
       }
      }
     },
     "metadata": {},
     "output_type": "display_data"
    }
   ],
   "source": [
    "import plotly.express as px\n",
    "\n",
    "for hotel in df['hotel'].unique():\n",
    "    reservas_hotel = df[df['hotel']==hotel]['country'].value_counts().reset_index()\n",
    "    reservas_hotel.columns = ['country', 'reservas']\n",
    "    \n",
    "    fig = px.choropleth(\n",
    "        reservas_hotel,\n",
    "        locations='country',\n",
    "        color='reservas',\n",
    "        color_continuous_scale='Blues',\n",
    "        title=f'Reservas por país - {hotel}'\n",
    "    )\n",
    "    fig.show()"
   ]
  },
  {
   "cell_type": "code",
   "execution_count": 19,
   "id": "3176dd6a",
   "metadata": {},
   "outputs": [
    {
     "name": "stdout",
     "output_type": "stream",
     "text": [
      "distribution_channel\n",
      "TA/TO        97870\n",
      "Direct       14645\n",
      "Corporate     6677\n",
      "GDS            193\n",
      "Undefined        5\n",
      "Name: count, dtype: int64\n"
     ]
    },
    {
     "data": {
      "image/png": "[encoded data removed]",
      "text/plain": [
       "<Figure size 800x600 with 1 Axes>"
      ]
     },
     "metadata": {},
     "output_type": "display_data"
    }
   ],
   "source": [
    "canales = df['distribution_channel'].value_counts()\n",
    "print(canales)\n",
    "\n",
    "# Umbral: menos del 5% se agrupa en 'Otros'\n",
    "umbral = 0.05 * canales.sum()\n",
    "canales_agrupados = canales.copy()\n",
    "canales_agrupados[canales < umbral] = 0  # asignar 0 temporalmente\n",
    "\n",
    "otros = canales[canales < umbral].sum()\n",
    "canales_agrupados = canales_agrupados[canales_agrupados>0]\n",
    "canales_agrupados['Otros'] = otros\n",
    "\n",
    "plt.figure(figsize=(8, 6))\n",
    "# Crear gráfico circular\n",
    "wedges, texts, autotexts = plt.pie(\n",
    "    canales_agrupados.values,\n",
    "    labels=None,          # etiquetas en la leyenda, no en el gráfico\n",
    "    autopct='%1.1f%%',\n",
    "    startangle=90,\n",
    "    colors=['skyblue','lightgreen','orange','pink'],\n",
    "    pctdistance=1.1      # porcentaje dentro pero más separado\n",
    ")\n",
    "\n",
    "# Agregar leyenda al lado\n",
    "plt.legend(\n",
    "    wedges,                 # los \"trozos\" del pie\n",
    "    canales_agrupados.index,          # nombres de los canales\n",
    "    title=\"Canales de reserva\",\n",
    "    loc=\"center left\",\n",
    "    bbox_to_anchor=(0.9, 0, 0.5, 1)\n",
    ")\n",
    "\n",
    "plt.axis('equal')\n",
    "plt.show()"
   ]
  },
  {
   "cell_type": "code",
   "execution_count": null,
   "id": "d0744246",
   "metadata": {},
   "outputs": [],
   "source": []
  },
  {
   "cell_type": "markdown",
   "id": "ff149aaf",
   "metadata": {},
   "source": [
    "### 3. Patrones de comportamiento y cancelaciones (Rodri)"
   ]
  },
  {
   "cell_type": "markdown",
   "id": "7d541b05",
   "metadata": {},
   "source": [
    "Objetivo: Analizar cómo varían las reservas en función del tiempo, los precios y la estancia.\n",
    "\n",
    "Tareas:\n",
    "\n",
    "* Estudiar variables clave:\n",
    "\n",
    "  * *Mes y año de llegada* → estacionalidad.\n",
    "  * *Duración de la estadía* (noches de semana y fin de semana).\n",
    "  * *Precio promedio por noche (adr)* → variación según temporada.\n",
    "  * *Cancelaciones*: proporción general y por segmento.\n",
    "* Visualizaciones:\n",
    "\n",
    "  * Línea temporal con reservas por mes.\n",
    "  * Boxplot de precios según temporada alta/baja.\n",
    "  * Gráfico de barras: cancelaciones por canal de reserva.\n",
    "\n",
    "### Preguntas a responder:\n",
    "\n",
    "* ¿En qué meses hay más reservas y cancelaciones?\n",
    "* ¿El precio influye en la probabilidad de cancelación?\n",
    "* ¿Los hoteles de ciudad o de resort tienen más cancelaciones?\n"
   ]
  },
  {
   "cell_type": "code",
   "execution_count": null,
   "id": "0e6666be",
   "metadata": {},
   "outputs": [],
   "source": []
  },
  {
   "cell_type": "markdown",
   "id": "cdecb9e9",
   "metadata": {},
   "source": [
    "### 4. Predicción y recomendaciones (Albert)"
   ]
  },
  {
   "cell_type": "markdown",
   "id": "1cf30284",
   "metadata": {},
   "source": [
    "Objetivo: Explorar qué factores están más relacionados con las cancelaciones y proponer conclusiones prácticas.\n",
    "\n",
    "Tareas:\n",
    "\n",
    "* Crear variables comparativas:\n",
    "\n",
    "  * Reservas canceladas vs no canceladas.\n",
    "  * Relación entre lead_time (antelación de reserva) y cancelación.\n",
    "  * Clientes repetidores vs nuevos.\n",
    "* Visualizaciones:\n",
    "\n",
    "  * Heatmap de correlaciones entre variables numéricas y cancelación.\n",
    "  * Gráfico de barras de cancelación según país.\n",
    "  * Boxplot de lead_time para canceladas vs no canceladas.\n",
    "* (Opcional avanzado) Entrenar un modelo simple de clasificación para predecir cancelaciones (ej: logistic regression, random forest).\n",
    "\n",
    "### Preguntas a responder:\n",
    "\n",
    "* ¿Qué variables son más importantes para explicar una cancelación?\n",
    "* ¿Se pueden detectar patrones que ayuden a los hoteles a reducir cancelaciones?\n",
    "* ¿Qué recomendaciones se pueden dar a un hotel basadas en el análisis?"
   ]
  },
  {
   "cell_type": "code",
   "execution_count": null,
   "id": "43188dc7",
   "metadata": {},
   "outputs": [],
   "source": []
  }
 ],
 "metadata": {
  "kernelspec": {
   "display_name": "base",
   "language": "python",
   "name": "python3"
  },
  "language_info": {
   "codemirror_mode": {
    "name": "ipython",
    "version": 3
   },
   "file_extension": ".py",
   "mimetype": "text/x-python",
   "name": "python",
   "nbconvert_exporter": "python",
   "pygments_lexer": "ipython3",
   "version": "3.13.5"
  }
 },
 "nbformat": 4,
 "nbformat_minor": 5
}

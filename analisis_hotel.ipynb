{
 "cells": [
  {
   "cell_type": "markdown",
   "id": "a8404b52",
   "metadata": {},
   "source": [
    "## Grupo 2: Análisis de reservas y cancelaciones hoteleras: patrones y predicciones\n",
    "🎯 Objetivo del proyecto\n",
    "Analizar los datos de reservas de hoteles para comprender el perfil de los clientes, identificar patrones de comportamiento (estacionalidad, duración de la estancia, precios) y estudiar los factores que influyen en las cancelaciones, utilizando herramientas de análisis de datos en Python."
   ]
  },
  {
   "cell_type": "markdown",
   "id": "8e31c558",
   "metadata": {},
   "source": [
    "### 1. Introducción y descripción del dataset\n",
    "\n",
    "- Breve explicación del contexto del análisis\n",
    "\n",
    "- Descripción de las variables disponibles\n",
    "\n",
    "- Objetivo del estudio"
   ]
  },
  {
   "cell_type": "code",
   "execution_count": 2,
   "id": "7f330d98",
   "metadata": {},
   "outputs": [],
   "source": [
    "import pandas as pd\n",
    "import seaborn as sns\n",
    "import matplotlib.pyplot as plt\n",
    "import plotly.express as px\n",
    "\n",
    "df = pd.read_csv('hotel_bookings.csv')"
   ]
  },
  {
   "cell_type": "markdown",
   "id": "5f2ad1f5",
   "metadata": {},
   "source": [
    "### 2. Perfil general de las reservas"
   ]
  },
  {
   "cell_type": "markdown",
   "id": "fd47203d",
   "metadata": {},
   "source": [
    "Objetivo: Entender cómo son las reservas y los clientes en general."
   ]
  },
  {
   "cell_type": "markdown",
   "id": "1d36ecee",
   "metadata": {},
   "source": [
    "Inspeccionamos el dataset"
   ]
  },
  {
   "cell_type": "code",
   "execution_count": 7,
   "id": "40e14651",
   "metadata": {},
   "outputs": [
    {
     "name": "stdout",
     "output_type": "stream",
     "text": [
      "--- Primeras 5 filas ---\n",
      "          hotel  is_canceled  lead_time  arrival_date_year arrival_date_month  \\\n",
      "0  Resort Hotel            0        342               2015               July   \n",
      "1  Resort Hotel            0        737               2015               July   \n",
      "2  Resort Hotel            0          7               2015               July   \n",
      "3  Resort Hotel            0         13               2015               July   \n",
      "4  Resort Hotel            0         14               2015               July   \n",
      "\n",
      "   arrival_date_week_number  arrival_date_day_of_month  \\\n",
      "0                        27                          1   \n",
      "1                        27                          1   \n",
      "2                        27                          1   \n",
      "3                        27                          1   \n",
      "4                        27                          1   \n",
      "\n",
      "   stays_in_weekend_nights  stays_in_week_nights  adults  ...  deposit_type  \\\n",
      "0                        0                     0       2  ...    No Deposit   \n",
      "1                        0                     0       2  ...    No Deposit   \n",
      "2                        0                     1       1  ...    No Deposit   \n",
      "3                        0                     1       1  ...    No Deposit   \n",
      "4                        0                     2       2  ...    No Deposit   \n",
      "\n",
      "   agent company days_in_waiting_list customer_type   adr  \\\n",
      "0    NaN     NaN                    0     Transient   0.0   \n",
      "1    NaN     NaN                    0     Transient   0.0   \n",
      "2    NaN     NaN                    0     Transient  75.0   \n",
      "3  304.0     NaN                    0     Transient  75.0   \n",
      "4  240.0     NaN                    0     Transient  98.0   \n",
      "\n",
      "   required_car_parking_spaces  total_of_special_requests  reservation_status  \\\n",
      "0                            0                          0           Check-Out   \n",
      "1                            0                          0           Check-Out   \n",
      "2                            0                          0           Check-Out   \n",
      "3                            0                          0           Check-Out   \n",
      "4                            0                          1           Check-Out   \n",
      "\n",
      "  reservation_status_date  \n",
      "0              2015-07-01  \n",
      "1              2015-07-01  \n",
      "2              2015-07-02  \n",
      "3              2015-07-02  \n",
      "4              2015-07-03  \n",
      "\n",
      "[5 rows x 32 columns]\n",
      "\n",
      "--- Información general y tipos de datos ---\n",
      "<class 'pandas.core.frame.DataFrame'>\n",
      "RangeIndex: 119390 entries, 0 to 119389\n",
      "Data columns (total 32 columns):\n",
      " #   Column                          Non-Null Count   Dtype  \n",
      "---  ------                          --------------   -----  \n",
      " 0   hotel                           119390 non-null  object \n",
      " 1   is_canceled                     119390 non-null  int64  \n",
      " 2   lead_time                       119390 non-null  int64  \n",
      " 3   arrival_date_year               119390 non-null  int64  \n",
      " 4   arrival_date_month              119390 non-null  object \n",
      " 5   arrival_date_week_number        119390 non-null  int64  \n",
      " 6   arrival_date_day_of_month       119390 non-null  int64  \n",
      " 7   stays_in_weekend_nights         119390 non-null  int64  \n",
      " 8   stays_in_week_nights            119390 non-null  int64  \n",
      " 9   adults                          119390 non-null  int64  \n",
      " 10  children                        119386 non-null  float64\n",
      " 11  babies                          119390 non-null  int64  \n",
      " 12  meal                            119390 non-null  object \n",
      " 13  country                         118902 non-null  object \n",
      " 14  market_segment                  119390 non-null  object \n",
      " 15  distribution_channel            119390 non-null  object \n",
      " 16  is_repeated_guest               119390 non-null  int64  \n",
      " 17  previous_cancellations          119390 non-null  int64  \n",
      " 18  previous_bookings_not_canceled  119390 non-null  int64  \n",
      " 19  reserved_room_type              119390 non-null  object \n",
      " 20  assigned_room_type              119390 non-null  object \n",
      " 21  booking_changes                 119390 non-null  int64  \n",
      " 22  deposit_type                    119390 non-null  object \n",
      " 23  agent                           103050 non-null  float64\n",
      " 24  company                         6797 non-null    float64\n",
      " 25  days_in_waiting_list            119390 non-null  int64  \n",
      " 26  customer_type                   119390 non-null  object \n",
      " 27  adr                             119390 non-null  float64\n",
      " 28  required_car_parking_spaces     119390 non-null  int64  \n",
      " 29  total_of_special_requests       119390 non-null  int64  \n",
      " 30  reservation_status              119390 non-null  object \n",
      " 31  reservation_status_date         119390 non-null  object \n",
      "dtypes: float64(4), int64(16), object(12)\n",
      "memory usage: 29.1+ MB\n",
      "\n",
      "--- Resumen estadístico de las columnas numéricas ---\n",
      "         is_canceled      lead_time  arrival_date_year  \\\n",
      "count  119390.000000  119390.000000      119390.000000   \n",
      "mean        0.370416     104.011416        2016.156554   \n",
      "std         0.482918     106.863097           0.707476   \n",
      "min         0.000000       0.000000        2015.000000   \n",
      "25%         0.000000      18.000000        2016.000000   \n",
      "50%         0.000000      69.000000        2016.000000   \n",
      "75%         1.000000     160.000000        2017.000000   \n",
      "max         1.000000     737.000000        2017.000000   \n",
      "\n",
      "       arrival_date_week_number  arrival_date_day_of_month  \\\n",
      "count             119390.000000              119390.000000   \n",
      "mean                  27.165173                  15.798241   \n",
      "std                   13.605138                   8.780829   \n",
      "min                    1.000000                   1.000000   \n",
      "25%                   16.000000                   8.000000   \n",
      "50%                   28.000000                  16.000000   \n",
      "75%                   38.000000                  23.000000   \n",
      "max                   53.000000                  31.000000   \n",
      "\n",
      "       stays_in_weekend_nights  stays_in_week_nights         adults  \\\n",
      "count            119390.000000         119390.000000  119390.000000   \n",
      "mean                  0.927599              2.500302       1.856403   \n",
      "std                   0.998613              1.908286       0.579261   \n",
      "min                   0.000000              0.000000       0.000000   \n",
      "25%                   0.000000              1.000000       2.000000   \n",
      "50%                   1.000000              2.000000       2.000000   \n",
      "75%                   2.000000              3.000000       2.000000   \n",
      "max                  19.000000             50.000000      55.000000   \n",
      "\n",
      "            children         babies  is_repeated_guest  \\\n",
      "count  119386.000000  119390.000000      119390.000000   \n",
      "mean        0.103890       0.007949           0.031912   \n",
      "std         0.398561       0.097436           0.175767   \n",
      "min         0.000000       0.000000           0.000000   \n",
      "25%         0.000000       0.000000           0.000000   \n",
      "50%         0.000000       0.000000           0.000000   \n",
      "75%         0.000000       0.000000           0.000000   \n",
      "max        10.000000      10.000000           1.000000   \n",
      "\n",
      "       previous_cancellations  previous_bookings_not_canceled  \\\n",
      "count           119390.000000                   119390.000000   \n",
      "mean                 0.087118                        0.137097   \n",
      "std                  0.844336                        1.497437   \n",
      "min                  0.000000                        0.000000   \n",
      "25%                  0.000000                        0.000000   \n",
      "50%                  0.000000                        0.000000   \n",
      "75%                  0.000000                        0.000000   \n",
      "max                 26.000000                       72.000000   \n",
      "\n",
      "       booking_changes          agent      company  days_in_waiting_list  \\\n",
      "count    119390.000000  103050.000000  6797.000000         119390.000000   \n",
      "mean          0.221124      86.693382   189.266735              2.321149   \n",
      "std           0.652306     110.774548   131.655015             17.594721   \n",
      "min           0.000000       1.000000     6.000000              0.000000   \n",
      "25%           0.000000       9.000000    62.000000              0.000000   \n",
      "50%           0.000000      14.000000   179.000000              0.000000   \n",
      "75%           0.000000     229.000000   270.000000              0.000000   \n",
      "max          21.000000     535.000000   543.000000            391.000000   \n",
      "\n",
      "                 adr  required_car_parking_spaces  total_of_special_requests  \n",
      "count  119390.000000                119390.000000              119390.000000  \n",
      "mean      101.831122                     0.062518                   0.571363  \n",
      "std        50.535790                     0.245291                   0.792798  \n",
      "min        -6.380000                     0.000000                   0.000000  \n",
      "25%        69.290000                     0.000000                   0.000000  \n",
      "50%        94.575000                     0.000000                   0.000000  \n",
      "75%       126.000000                     0.000000                   1.000000  \n",
      "max      5400.000000                     8.000000                   5.000000  \n",
      "\n",
      "--- Cuántos datos nulos hay ---\n",
      "hotel                                  0\n",
      "is_canceled                            0\n",
      "lead_time                              0\n",
      "arrival_date_year                      0\n",
      "arrival_date_month                     0\n",
      "arrival_date_week_number               0\n",
      "arrival_date_day_of_month              0\n",
      "stays_in_weekend_nights                0\n",
      "stays_in_week_nights                   0\n",
      "adults                                 0\n",
      "children                               4\n",
      "babies                                 0\n",
      "meal                                   0\n",
      "country                              488\n",
      "market_segment                         0\n",
      "distribution_channel                   0\n",
      "is_repeated_guest                      0\n",
      "previous_cancellations                 0\n",
      "previous_bookings_not_canceled         0\n",
      "reserved_room_type                     0\n",
      "assigned_room_type                     0\n",
      "booking_changes                        0\n",
      "deposit_type                           0\n",
      "agent                              16340\n",
      "company                           112593\n",
      "days_in_waiting_list                   0\n",
      "customer_type                          0\n",
      "adr                                    0\n",
      "required_car_parking_spaces            0\n",
      "total_of_special_requests              0\n",
      "reservation_status                     0\n",
      "reservation_status_date                0\n",
      "dtype: int64\n",
      "\n",
      "--- Cuántos duplicados hay ---\n",
      "31994\n"
     ]
    }
   ],
   "source": [
    "print(\"--- Primeras 5 filas ---\")\n",
    "print(df.head())\n",
    "\n",
    "print(\"\\n--- Información general y tipos de datos ---\")\n",
    "df.info()\n",
    "\n",
    "print(\"\\n--- Resumen estadístico de las columnas numéricas ---\")\n",
    "print(df.describe())\n",
    "\n",
    "print(\"\\n--- Cuántos datos nulos hay ---\")\n",
    "print(df.isnull().sum())\n",
    "\n",
    "print(\"\\n--- Cuántos duplicados hay ---\")\n",
    "print(df.duplicated().sum())"
   ]
  },
  {
   "cell_type": "code",
   "execution_count": null,
   "id": "f1d2b4f1",
   "metadata": {},
   "outputs": [],
   "source": [
    "# Llenar valores nulos\n",
    "df['children'] = df['children'].fillna(0)\n",
    "df['country'] = df['country'].fillna('Unknown')\n",
    "df['agent'] = df['agent'].fillna(0)\n",
    "df['company'] = df['company'].fillna(0)"
   ]
  },
  {
   "cell_type": "markdown",
   "id": "7e8b8a2b",
   "metadata": {},
   "source": [
    "Analizamos el número de clientes que llegan cada año a los hoteles, diferenciando entre City Hotel y Resort Hotel. ¿Cómo varía la cantidad de clientes a lo largo de los años en cada tipo de hotel?"
   ]
  },
  {
   "cell_type": "code",
   "execution_count": 51,
   "id": "608b737a",
   "metadata": {},
   "outputs": [
    {
     "data": {
      "image/png": "[encoded data removed]",
      "text/plain": [
       "<Figure size 640x480 with 1 Axes>"
      ]
     },
     "metadata": {},
     "output_type": "display_data"
    }
   ],
   "source": [
    "# Contar cuántos clientes hay por año de llegada y por tipo de hotel\n",
    "clientes_hotel_anio = df.groupby(['arrival_date_year', 'hotel']).size().reset_index(name='cantidad_clientes')\n",
    "\n",
    "# Crear un gráfico de barras\n",
    "sns.barplot(data=clientes_hotel_anio, x='arrival_date_year', y='cantidad_clientes', hue='hotel')\n",
    "plt.title('Cantidad de clientes por año')\n",
    "plt.xlabel('Año')\n",
    "plt.ylabel('Clientes')\n",
    "plt.show()"
   ]
  },
  {
   "cell_type": "markdown",
   "id": "b8012d41",
   "metadata": {},
   "source": [
    "Analizamos de cuántos países distintos eran los clientes que han hecho reservas en cada tipo de hotel (City Hotel y Resort Hotel)"
   ]
  },
  {
   "cell_type": "code",
   "execution_count": 52,
   "id": "3701177f",
   "metadata": {},
   "outputs": [
    {
     "data": {
      "image/png": "[encoded data removed]",
      "text/plain": [
       "<Figure size 640x480 with 1 Axes>"
      ]
     },
     "metadata": {},
     "output_type": "display_data"
    }
   ],
   "source": [
    "# Contar de cuántos países distintos eran los clientes que han hecho reservas en cada tipo de hotel\n",
    "num_paises = df.groupby('hotel')['country'].nunique()\n",
    "\n",
    "sns.barplot(x=num_paises.index, y=num_paises.values)\n",
    "plt.title('Número de países distintos por hotel')\n",
    "plt.xlabel('Hotel')\n",
    "plt.ylabel('Paises')\n",
    "plt.show()"
   ]
  },
  {
   "cell_type": "markdown",
   "id": "6ba45784",
   "metadata": {},
   "source": [
    "Analizamos para cada tipo de hotel (City Hotel y Resort Hotel), la cantidad de reservas provenientes de cada país mediante un mapa coroplético mundial. ¿De qué países provienen los clientes de cada hotel y cuáles son los principales mercados de origen?"
   ]
  },
  {
   "cell_type": "code",
   "execution_count": null,
   "id": "3893dbae",
   "metadata": {},
   "outputs": [
    {
     "data": {
      "image/png": "[encoded data removed]",
      "text/plain": [
       "<Figure size 600x400 with 1 Axes>"
      ]
     },
     "metadata": {},
     "output_type": "display_data"
    },
    {
     "data": {
      "image/png": "[encoded data removed]",
      "text/plain": [
       "<Figure size 600x400 with 1 Axes>"
      ]
     },
     "metadata": {},
     "output_type": "display_data"
    }
   ],
   "source": [
    "for hotel in df['hotel'].unique():\n",
    "    df_hotel = df[df['hotel'] == hotel]\n",
    "    \n",
    "    # Contar cuántas reservas hay de cada país en cada hotel y tomar los 10 primeros\n",
    "    top_10 = df_hotel['country'].value_counts().head(10).reset_index()\n",
    "    top_10.columns = ['country', 'cantidad_clientes']\n",
    "    \n",
    "    # Crear gráfico de barras\n",
    "    plt.figure(figsize=(6,4))\n",
    "    sns.barplot(data=top_10, x='cantidad_clientes', y='country')\n",
    "    plt.title(f'Top 10 países de origen - {hotel}')\n",
    "    plt.xlabel('Cantidad de clientes')\n",
    "    plt.ylabel('País')\n",
    "    plt.show()"
   ]
  },
  {
   "cell_type": "code",
   "execution_count": null,
   "id": "eb4e5270",
   "metadata": {},
   "outputs": [
    {
     "data": {
      "application/vnd.plotly.v1+json": {
       "config": {
        "plotlyServerURL": "https://plot.ly"
       },
       "data": [
        {
         "coloraxis": "coloraxis",
         "geo": "geo",
         "hovertemplate": "country=%{location}<br>reservas=%{z}<extra></extra>",
         "locations": [
          "PRT",
          "GBR",
          "ESP",
          "IRL",
          "FRA",
          "DEU",
          "CN",
          "NLD",
          "USA",
          "Unknown",
          "ITA",
          "BEL",
          "CHE",
          "BRA",
          "POL",
          "SWE",
          "AUT",
          "RUS",
          "ROU",
          "FIN",
          "CHN",
          "NOR",
          "AUS",
          "LUX",
          "MAR",
          "DNK",
          "ARG",
          "HUN",
          "LTU",
          "IND",
          "LVA",
          "EST",
          "ISR",
          "CZE",
          "AGO",
          "TUR",
          "UKR",
          "ZAF",
          "CHL",
          "COL",
          "PHL",
          "NZL",
          "GIB",
          "DZA",
          "TWN",
          "SVK",
          "HRV",
          "GEO",
          "ARE",
          "OMN",
          "SVN",
          "NGA",
          "GRC",
          "MYS",
          "KOR",
          "PRI",
          "JPN",
          "URY",
          "CYP",
          "SRB",
          "BLR",
          "MOZ",
          "LBN",
          "MDV",
          "ISL",
          "MEX",
          "THA",
          "IDN",
          "IRN",
          "KAZ",
          "BGR",
          "CPV",
          "JAM",
          "AND",
          "HKG",
          "CUB",
          "PAK",
          "SGP",
          "SUR",
          "CAF",
          "AZE",
          "DOM",
          "JEY",
          "VEN",
          "KWT",
          "ALB",
          "ECU",
          "MWI",
          "CMR",
          "MLT",
          "VNM",
          "ZWE",
          "CRI",
          "ARM",
          "CIV",
          "JOR",
          "TUN",
          "SMR",
          "BWA",
          "ZMB",
          "CYM",
          "FJI",
          "MKD",
          "BHR",
          "SEN",
          "SYC",
          "GGY",
          "UGA",
          "MUS",
          "COM",
          "SAU",
          "BDI",
          "SYR",
          "LKA",
          "BIH",
          "EGY",
          "PER",
          "PLW",
          "MDG",
          "QAT",
          "NPL",
          "UZB",
          "BHS",
          "MAC",
          "TGO",
          "DJI"
         ],
         "name": "",
         "type": "choropleth",
         "z": [
          17630,
          6814,
          3957,
          2166,
          1611,
          1203,
          710,
          514,
          479,
          464,
          459,
          448,
          435,
          430,
          333,
          304,
          210,
          189,
          177,
          151,
          134,
          123,
          87,
          80,
          75,
          65,
          57,
          47,
          46,
          37,
          33,
          33,
          28,
          27,
          24,
          23,
          23,
          18,
          17,
          16,
          16,
          14,
          13,
          12,
          12,
          12,
          11,
          11,
          11,
          11,
          11,
          10,
          10,
          10,
          9,
          9,
          9,
          8,
          8,
          7,
          7,
          6,
          6,
          6,
          6,
          6,
          6,
          5,
          5,
          5,
          5,
          5,
          5,
          5,
          4,
          4,
          4,
          4,
          4,
          3,
          3,
          3,
          3,
          3,
          3,
          3,
          2,
          2,
          2,
          2,
          2,
          2,
          2,
          2,
          2,
          2,
          1,
          1,
          1,
          1,
          1,
          1,
          1,
          1,
          1,
          1,
          1,
          1,
          1,
          1,
          1,
          1,
          1,
          1,
          1,
          1,
          1,
          1,
          1,
          1,
          1,
          1,
          1,
          1,
          1,
          1
         ]
        }
       ],
       "layout": {
        "coloraxis": {
         "colorbar": {
          "title": {
           "text": "reservas"
          }
         },
         "colorscale": [
          [
           0,
           "rgb(255,245,235)"
          ],
          [
           0.125,
           "rgb(254,230,206)"
          ],
          [
           0.25,
           "rgb(253,208,162)"
          ],
          [
           0.375,
           "rgb(253,174,107)"
          ],
          [
           0.5,
           "rgb(253,141,60)"
          ],
          [
           0.625,
           "rgb(241,105,19)"
          ],
          [
           0.75,
           "rgb(217,72,1)"
          ],
          [
           0.875,
           "rgb(166,54,3)"
          ],
          [
           1,
           "rgb(127,39,4)"
          ]
         ]
        },
        "geo": {
         "center": {},
         "domain": {
          "x": [
           0,
           1
          ],
          "y": [
           0,
           1
          ]
         }
        },
        "legend": {
         "tracegroupgap": 0
        },
        "template": {
         "data": {
          "bar": [
           {
            "error_x": {
             "color": "#2a3f5f"
            },
            "error_y": {
             "color": "#2a3f5f"
            },
            "marker": {
             "line": {
              "color": "#E5ECF6",
              "width": 0.5
             },
             "pattern": {
              "fillmode": "overlay",
              "size": 10,
              "solidity": 0.2
             }
            },
            "type": "bar"
           }
          ],
          "barpolar": [
           {
            "marker": {
             "line": {
              "color": "#E5ECF6",
              "width": 0.5
             },
             "pattern": {
              "fillmode": "overlay",
              "size": 10,
              "solidity": 0.2
             }
            },
            "type": "barpolar"
           }
          ],
          "carpet": [
           {
            "aaxis": {
             "endlinecolor": "#2a3f5f",
             "gridcolor": "white",
             "linecolor": "white",
             "minorgridcolor": "white",
             "startlinecolor": "#2a3f5f"
            },
            "baxis": {
             "endlinecolor": "#2a3f5f",
             "gridcolor": "white",
             "linecolor": "white",
             "minorgridcolor": "white",
             "startlinecolor": "#2a3f5f"
            },
            "type": "carpet"
           }
          ],
          "choropleth": [
           {
            "colorbar": {
             "outlinewidth": 0,
             "ticks": ""
            },
            "type": "choropleth"
           }
          ],
          "contour": [
           {
            "colorbar": {
             "outlinewidth": 0,
             "ticks": ""
            },
            "colorscale": [
             [
              0,
              "#0d0887"
             ],
             [
              0.1111111111111111,
              "#46039f"
             ],
             [
              0.2222222222222222,
              "#7201a8"
             ],
             [
              0.3333333333333333,
              "#9c179e"
             ],
             [
              0.4444444444444444,
              "#bd3786"
             ],
             [
              0.5555555555555556,
              "#d8576b"
             ],
             [
              0.6666666666666666,
              "#ed7953"
             ],
             [
              0.7777777777777778,
              "#fb9f3a"
             ],
             [
              0.8888888888888888,
              "#fdca26"
             ],
             [
              1,
              "#f0f921"
             ]
            ],
            "type": "contour"
           }
          ],
          "contourcarpet": [
           {
            "colorbar": {
             "outlinewidth": 0,
             "ticks": ""
            },
            "type": "contourcarpet"
           }
          ],
          "heatmap": [
           {
            "colorbar": {
             "outlinewidth": 0,
             "ticks": ""
            },
            "colorscale": [
             [
              0,
              "#0d0887"
             ],
             [
              0.1111111111111111,
              "#46039f"
             ],
             [
              0.2222222222222222,
              "#7201a8"
             ],
             [
              0.3333333333333333,
              "#9c179e"
             ],
             [
              0.4444444444444444,
              "#bd3786"
             ],
             [
              0.5555555555555556,
              "#d8576b"
             ],
             [
              0.6666666666666666,
              "#ed7953"
             ],
             [
              0.7777777777777778,
              "#fb9f3a"
             ],
             [
              0.8888888888888888,
              "#fdca26"
             ],
             [
              1,
              "#f0f921"
             ]
            ],
            "type": "heatmap"
           }
          ],
          "heatmapgl": [
           {
            "colorbar": {
             "outlinewidth": 0,
             "ticks": ""
            },
            "colorscale": [
             [
              0,
              "#0d0887"
             ],
             [
              0.1111111111111111,
              "#46039f"
             ],
             [
              0.2222222222222222,
              "#7201a8"
             ],
             [
              0.3333333333333333,
              "#9c179e"
             ],
             [
              0.4444444444444444,
              "#bd3786"
             ],
             [
              0.5555555555555556,
              "#d8576b"
             ],
             [
              0.6666666666666666,
              "#ed7953"
             ],
             [
              0.7777777777777778,
              "#fb9f3a"
             ],
             [
              0.8888888888888888,
              "#fdca26"
             ],
             [
              1,
              "#f0f921"
             ]
            ],
            "type": "heatmapgl"
           }
          ],
          "histogram": [
           {
            "marker": {
             "pattern": {
              "fillmode": "overlay",
              "size": 10,
              "solidity": 0.2
             }
            },
            "type": "histogram"
           }
          ],
          "histogram2d": [
           {
            "colorbar": {
             "outlinewidth": 0,
             "ticks": ""
            },
            "colorscale": [
             [
              0,
              "#0d0887"
             ],
             [
              0.1111111111111111,
              "#46039f"
             ],
             [
              0.2222222222222222,
              "#7201a8"
             ],
             [
              0.3333333333333333,
              "#9c179e"
             ],
             [
              0.4444444444444444,
              "#bd3786"
             ],
             [
              0.5555555555555556,
              "#d8576b"
             ],
             [
              0.6666666666666666,
              "#ed7953"
             ],
             [
              0.7777777777777778,
              "#fb9f3a"
             ],
             [
              0.8888888888888888,
              "#fdca26"
             ],
             [
              1,
              "#f0f921"
             ]
            ],
            "type": "histogram2d"
           }
          ],
          "histogram2dcontour": [
           {
            "colorbar": {
             "outlinewidth": 0,
             "ticks": ""
            },
            "colorscale": [
             [
              0,
              "#0d0887"
             ],
             [
              0.1111111111111111,
              "#46039f"
             ],
             [
              0.2222222222222222,
              "#7201a8"
             ],
             [
              0.3333333333333333,
              "#9c179e"
             ],
             [
              0.4444444444444444,
              "#bd3786"
             ],
             [
              0.5555555555555556,
              "#d8576b"
             ],
             [
              0.6666666666666666,
              "#ed7953"
             ],
             [
              0.7777777777777778,
              "#fb9f3a"
             ],
             [
              0.8888888888888888,
              "#fdca26"
             ],
             [
              1,
              "#f0f921"
             ]
            ],
            "type": "histogram2dcontour"
           }
          ],
          "mesh3d": [
           {
            "colorbar": {
             "outlinewidth": 0,
             "ticks": ""
            },
            "type": "mesh3d"
           }
          ],
          "parcoords": [
           {
            "line": {
             "colorbar": {
              "outlinewidth": 0,
              "ticks": ""
             }
            },
            "type": "parcoords"
           }
          ],
          "pie": [
           {
            "automargin": true,
            "type": "pie"
           }
          ],
          "scatter": [
           {
            "fillpattern": {
             "fillmode": "overlay",
             "size": 10,
             "solidity": 0.2
            },
            "type": "scatter"
           }
          ],
          "scatter3d": [
           {
            "line": {
             "colorbar": {
              "outlinewidth": 0,
              "ticks": ""
             }
            },
            "marker": {
             "colorbar": {
              "outlinewidth": 0,
              "ticks": ""
             }
            },
            "type": "scatter3d"
           }
          ],
          "scattercarpet": [
           {
            "marker": {
             "colorbar": {
              "outlinewidth": 0,
              "ticks": ""
             }
            },
            "type": "scattercarpet"
           }
          ],
          "scattergeo": [
           {
            "marker": {
             "colorbar": {
              "outlinewidth": 0,
              "ticks": ""
             }
            },
            "type": "scattergeo"
           }
          ],
          "scattergl": [
           {
            "marker": {
             "colorbar": {
              "outlinewidth": 0,
              "ticks": ""
             }
            },
            "type": "scattergl"
           }
          ],
          "scattermapbox": [
           {
            "marker": {
             "colorbar": {
              "outlinewidth": 0,
              "ticks": ""
             }
            },
            "type": "scattermapbox"
           }
          ],
          "scatterpolar": [
           {
            "marker": {
             "colorbar": {
              "outlinewidth": 0,
              "ticks": ""
             }
            },
            "type": "scatterpolar"
           }
          ],
          "scatterpolargl": [
           {
            "marker": {
             "colorbar": {
              "outlinewidth": 0,
              "ticks": ""
             }
            },
            "type": "scatterpolargl"
           }
          ],
          "scatterternary": [
           {
            "marker": {
             "colorbar": {
              "outlinewidth": 0,
              "ticks": ""
             }
            },
            "type": "scatterternary"
           }
          ],
          "surface": [
           {
            "colorbar": {
             "outlinewidth": 0,
             "ticks": ""
            },
            "colorscale": [
             [
              0,
              "#0d0887"
             ],
             [
              0.1111111111111111,
              "#46039f"
             ],
             [
              0.2222222222222222,
              "#7201a8"
             ],
             [
              0.3333333333333333,
              "#9c179e"
             ],
             [
              0.4444444444444444,
              "#bd3786"
             ],
             [
              0.5555555555555556,
              "#d8576b"
             ],
             [
              0.6666666666666666,
              "#ed7953"
             ],
             [
              0.7777777777777778,
              "#fb9f3a"
             ],
             [
              0.8888888888888888,
              "#fdca26"
             ],
             [
              1,
              "#f0f921"
             ]
            ],
            "type": "surface"
           }
          ],
          "table": [
           {
            "cells": {
             "fill": {
              "color": "#EBF0F8"
             },
             "line": {
              "color": "white"
             }
            },
            "header": {
             "fill": {
              "color": "#C8D4E3"
             },
             "line": {
              "color": "white"
             }
            },
            "type": "table"
           }
          ]
         },
         "layout": {
          "annotationdefaults": {
           "arrowcolor": "#2a3f5f",
           "arrowhead": 0,
           "arrowwidth": 1
          },
          "autotypenumbers": "strict",
          "coloraxis": {
           "colorbar": {
            "outlinewidth": 0,
            "ticks": ""
           }
          },
          "colorscale": {
           "diverging": [
            [
             0,
             "#8e0152"
            ],
            [
             0.1,
             "#c51b7d"
            ],
            [
             0.2,
             "#de77ae"
            ],
            [
             0.3,
             "#f1b6da"
            ],
            [
             0.4,
             "#fde0ef"
            ],
            [
             0.5,
             "#f7f7f7"
            ],
            [
             0.6,
             "#e6f5d0"
            ],
            [
             0.7,
             "#b8e186"
            ],
            [
             0.8,
             "#7fbc41"
            ],
            [
             0.9,
             "#4d9221"
            ],
            [
             1,
             "#276419"
            ]
           ],
           "sequential": [
            [
             0,
             "#0d0887"
            ],
            [
             0.1111111111111111,
             "#46039f"
            ],
            [
             0.2222222222222222,
             "#7201a8"
            ],
            [
             0.3333333333333333,
             "#9c179e"
            ],
            [
             0.4444444444444444,
             "#bd3786"
            ],
            [
             0.5555555555555556,
             "#d8576b"
            ],
            [
             0.6666666666666666,
             "#ed7953"
            ],
            [
             0.7777777777777778,
             "#fb9f3a"
            ],
            [
             0.8888888888888888,
             "#fdca26"
            ],
            [
             1,
             "#f0f921"
            ]
           ],
           "sequentialminus": [
            [
             0,
             "#0d0887"
            ],
            [
             0.1111111111111111,
             "#46039f"
            ],
            [
             0.2222222222222222,
             "#7201a8"
            ],
            [
             0.3333333333333333,
             "#9c179e"
            ],
            [
             0.4444444444444444,
             "#bd3786"
            ],
            [
             0.5555555555555556,
             "#d8576b"
            ],
            [
             0.6666666666666666,
             "#ed7953"
            ],
            [
             0.7777777777777778,
             "#fb9f3a"
            ],
            [
             0.8888888888888888,
             "#fdca26"
            ],
            [
             1,
             "#f0f921"
            ]
           ]
          },
          "colorway": [
           "#636efa",
           "#EF553B",
           "#00cc96",
           "#ab63fa",
           "#FFA15A",
           "#19d3f3",
           "#FF6692",
           "#B6E880",
           "#FF97FF",
           "#FECB52"
          ],
          "font": {
           "color": "#2a3f5f"
          },
          "geo": {
           "bgcolor": "white",
           "lakecolor": "white",
           "landcolor": "#E5ECF6",
           "showlakes": true,
           "showland": true,
           "subunitcolor": "white"
          },
          "hoverlabel": {
           "align": "left"
          },
          "hovermode": "closest",
          "mapbox": {
           "style": "light"
          },
          "paper_bgcolor": "white",
          "plot_bgcolor": "#E5ECF6",
          "polar": {
           "angularaxis": {
            "gridcolor": "white",
            "linecolor": "white",
            "ticks": ""
           },
           "bgcolor": "#E5ECF6",
           "radialaxis": {
            "gridcolor": "white",
            "linecolor": "white",
            "ticks": ""
           }
          },
          "scene": {
           "xaxis": {
            "backgroundcolor": "#E5ECF6",
            "gridcolor": "white",
            "gridwidth": 2,
            "linecolor": "white",
            "showbackground": true,
            "ticks": "",
            "zerolinecolor": "white"
           },
           "yaxis": {
            "backgroundcolor": "#E5ECF6",
            "gridcolor": "white",
            "gridwidth": 2,
            "linecolor": "white",
            "showbackground": true,
            "ticks": "",
            "zerolinecolor": "white"
           },
           "zaxis": {
            "backgroundcolor": "#E5ECF6",
            "gridcolor": "white",
            "gridwidth": 2,
            "linecolor": "white",
            "showbackground": true,
            "ticks": "",
            "zerolinecolor": "white"
           }
          },
          "shapedefaults": {
           "line": {
            "color": "#2a3f5f"
           }
          },
          "ternary": {
           "aaxis": {
            "gridcolor": "white",
            "linecolor": "white",
            "ticks": ""
           },
           "baxis": {
            "gridcolor": "white",
            "linecolor": "white",
            "ticks": ""
           },
           "bgcolor": "#E5ECF6",
           "caxis": {
            "gridcolor": "white",
            "linecolor": "white",
            "ticks": ""
           }
          },
          "title": {
           "x": 0.05
          },
          "xaxis": {
           "automargin": true,
           "gridcolor": "white",
           "linecolor": "white",
           "ticks": "",
           "title": {
            "standoff": 15
           },
           "zerolinecolor": "white",
           "zerolinewidth": 2
          },
          "yaxis": {
           "automargin": true,
           "gridcolor": "white",
           "linecolor": "white",
           "ticks": "",
           "title": {
            "standoff": 15
           },
           "zerolinecolor": "white",
           "zerolinewidth": 2
          }
         }
        },
        "title": {
         "text": "Reservas por país - Resort Hotel"
        }
       }
      }
     },
     "metadata": {},
     "output_type": "display_data"
    },
    {
     "data": {
      "application/vnd.plotly.v1+json": {
       "config": {
        "plotlyServerURL": "https://plot.ly"
       },
       "data": [
        {
         "coloraxis": "coloraxis",
         "geo": "geo",
         "hovertemplate": "country=%{location}<br>reservas=%{z}<extra></extra>",
         "locations": [
          "PRT",
          "FRA",
          "DEU",
          "GBR",
          "ESP",
          "ITA",
          "BEL",
          "BRA",
          "USA",
          "NLD",
          "CHE",
          "IRL",
          "AUT",
          "CHN",
          "SWE",
          "ISR",
          "POL",
          "CN",
          "NOR",
          "RUS",
          "DNK",
          "AUS",
          "AGO",
          "ROU",
          "FIN",
          "TUR",
          "LUX",
          "JPN",
          "MAR",
          "HUN",
          "ARG",
          "CZE",
          "KOR",
          "GRC",
          "IND",
          "SRB",
          "DZA",
          "HRV",
          "MEX",
          "IRN",
          "BGR",
          "ZAF",
          "MOZ",
          "NZL",
          "COL",
          "SVK",
          "THA",
          "ISL",
          "EST",
          "CHL",
          "SAU",
          "SVN",
          "UKR",
          "CYP",
          "ARE",
          "TWN",
          "TUN",
          "LTU",
          "SGP",
          "EGY",
          "IDN",
          "PER",
          "LBN",
          "HKG",
          "ECU",
          "URY",
          "PHL",
          "Unknown",
          "NGA",
          "VEN",
          "LVA",
          "JOR",
          "CPV",
          "BLR",
          "MYS",
          "CRI",
          "MLT",
          "MAC",
          "AZE",
          "IRQ",
          "QAT",
          "KAZ",
          "KWT",
          "BIH",
          "BGD",
          "DOM",
          "GEO",
          "PAK",
          "BOL",
          "SEN",
          "TJK",
          "GNB",
          "ALB",
          "MKD",
          "PAN",
          "CMR",
          "LBY",
          "OMN",
          "VNM",
          "MUS",
          "LKA",
          "MDV",
          "ARM",
          "KEN",
          "MNE",
          "GIB",
          "TZA",
          "JEY",
          "FRO",
          "GTM",
          "GHA",
          "BRB",
          "MCO",
          "BHR",
          "CUB",
          "CIV",
          "PRY",
          "GAB",
          "UZB",
          "TMP",
          "LIE",
          "BEN",
          "PRI",
          "ETH",
          "STP",
          "KNA",
          "AND",
          "CAF",
          "SYR",
          "KHM",
          "IMN",
          "RWA",
          "MYT",
          "ZWE",
          "GGY",
          "SLV",
          "GLP",
          "ATA",
          "LAO",
          "ABW",
          "HND",
          "ZMB",
          "VGB",
          "BFA",
          "MMR",
          "UMI",
          "NIC",
          "JAM",
          "SYC",
          "MLI",
          "NAM",
          "GUY",
          "UGA",
          "PYF",
          "DMA",
          "AIA",
          "TGO",
          "ASM",
          "LCA",
          "MRT",
          "SUR",
          "KIR",
          "NCL",
          "SDN",
          "ATF",
          "SLE",
          "COM"
         ],
         "name": "",
         "type": "choropleth",
         "z": [
          30960,
          8804,
          6084,
          5315,
          4611,
          3307,
          1894,
          1794,
          1618,
          1590,
          1295,
          1209,
          1053,
          865,
          720,
          641,
          586,
          569,
          484,
          443,
          370,
          339,
          338,
          323,
          296,
          225,
          207,
          188,
          184,
          183,
          157,
          144,
          124,
          118,
          115,
          94,
          91,
          89,
          79,
          78,
          70,
          62,
          61,
          60,
          55,
          53,
          53,
          51,
          50,
          48,
          47,
          46,
          45,
          43,
          40,
          39,
          38,
          35,
          35,
          31,
          30,
          28,
          25,
          25,
          25,
          24,
          24,
          24,
          24,
          23,
          22,
          19,
          19,
          19,
          18,
          17,
          16,
          15,
          14,
          14,
          14,
          14,
          13,
          12,
          12,
          11,
          11,
          10,
          10,
          10,
          9,
          9,
          9,
          9,
          9,
          8,
          8,
          7,
          6,
          6,
          6,
          6,
          6,
          6,
          5,
          5,
          5,
          5,
          5,
          4,
          4,
          4,
          4,
          4,
          4,
          4,
          4,
          4,
          3,
          3,
          3,
          3,
          3,
          3,
          2,
          2,
          2,
          2,
          2,
          2,
          2,
          2,
          2,
          2,
          2,
          2,
          2,
          2,
          2,
          2,
          1,
          1,
          1,
          1,
          1,
          1,
          1,
          1,
          1,
          1,
          1,
          1,
          1,
          1,
          1,
          1,
          1,
          1,
          1,
          1,
          1,
          1,
          1,
          1,
          1,
          1,
          1
         ]
        }
       ],
       "layout": {
        "coloraxis": {
         "colorbar": {
          "title": {
           "text": "reservas"
          }
         },
         "colorscale": [
          [
           0,
           "rgb(255,245,235)"
          ],
          [
           0.125,
           "rgb(254,230,206)"
          ],
          [
           0.25,
           "rgb(253,208,162)"
          ],
          [
           0.375,
           "rgb(253,174,107)"
          ],
          [
           0.5,
           "rgb(253,141,60)"
          ],
          [
           0.625,
           "rgb(241,105,19)"
          ],
          [
           0.75,
           "rgb(217,72,1)"
          ],
          [
           0.875,
           "rgb(166,54,3)"
          ],
          [
           1,
           "rgb(127,39,4)"
          ]
         ]
        },
        "geo": {
         "center": {},
         "domain": {
          "x": [
           0,
           1
          ],
          "y": [
           0,
           1
          ]
         }
        },
        "legend": {
         "tracegroupgap": 0
        },
        "template": {
         "data": {
          "bar": [
           {
            "error_x": {
             "color": "#2a3f5f"
            },
            "error_y": {
             "color": "#2a3f5f"
            },
            "marker": {
             "line": {
              "color": "#E5ECF6",
              "width": 0.5
             },
             "pattern": {
              "fillmode": "overlay",
              "size": 10,
              "solidity": 0.2
             }
            },
            "type": "bar"
           }
          ],
          "barpolar": [
           {
            "marker": {
             "line": {
              "color": "#E5ECF6",
              "width": 0.5
             },
             "pattern": {
              "fillmode": "overlay",
              "size": 10,
              "solidity": 0.2
             }
            },
            "type": "barpolar"
           }
          ],
          "carpet": [
           {
            "aaxis": {
             "endlinecolor": "#2a3f5f",
             "gridcolor": "white",
             "linecolor": "white",
             "minorgridcolor": "white",
             "startlinecolor": "#2a3f5f"
            },
            "baxis": {
             "endlinecolor": "#2a3f5f",
             "gridcolor": "white",
             "linecolor": "white",
             "minorgridcolor": "white",
             "startlinecolor": "#2a3f5f"
            },
            "type": "carpet"
           }
          ],
          "choropleth": [
           {
            "colorbar": {
             "outlinewidth": 0,
             "ticks": ""
            },
            "type": "choropleth"
           }
          ],
          "contour": [
           {
            "colorbar": {
             "outlinewidth": 0,
             "ticks": ""
            },
            "colorscale": [
             [
              0,
              "#0d0887"
             ],
             [
              0.1111111111111111,
              "#46039f"
             ],
             [
              0.2222222222222222,
              "#7201a8"
             ],
             [
              0.3333333333333333,
              "#9c179e"
             ],
             [
              0.4444444444444444,
              "#bd3786"
             ],
             [
              0.5555555555555556,
              "#d8576b"
             ],
             [
              0.6666666666666666,
              "#ed7953"
             ],
             [
              0.7777777777777778,
              "#fb9f3a"
             ],
             [
              0.8888888888888888,
              "#fdca26"
             ],
             [
              1,
              "#f0f921"
             ]
            ],
            "type": "contour"
           }
          ],
          "contourcarpet": [
           {
            "colorbar": {
             "outlinewidth": 0,
             "ticks": ""
            },
            "type": "contourcarpet"
           }
          ],
          "heatmap": [
           {
            "colorbar": {
             "outlinewidth": 0,
             "ticks": ""
            },
            "colorscale": [
             [
              0,
              "#0d0887"
             ],
             [
              0.1111111111111111,
              "#46039f"
             ],
             [
              0.2222222222222222,
              "#7201a8"
             ],
             [
              0.3333333333333333,
              "#9c179e"
             ],
             [
              0.4444444444444444,
              "#bd3786"
             ],
             [
              0.5555555555555556,
              "#d8576b"
             ],
             [
              0.6666666666666666,
              "#ed7953"
             ],
             [
              0.7777777777777778,
              "#fb9f3a"
             ],
             [
              0.8888888888888888,
              "#fdca26"
             ],
             [
              1,
              "#f0f921"
             ]
            ],
            "type": "heatmap"
           }
          ],
          "heatmapgl": [
           {
            "colorbar": {
             "outlinewidth": 0,
             "ticks": ""
            },
            "colorscale": [
             [
              0,
              "#0d0887"
             ],
             [
              0.1111111111111111,
              "#46039f"
             ],
             [
              0.2222222222222222,
              "#7201a8"
             ],
             [
              0.3333333333333333,
              "#9c179e"
             ],
             [
              0.4444444444444444,
              "#bd3786"
             ],
             [
              0.5555555555555556,
              "#d8576b"
             ],
             [
              0.6666666666666666,
              "#ed7953"
             ],
             [
              0.7777777777777778,
              "#fb9f3a"
             ],
             [
              0.8888888888888888,
              "#fdca26"
             ],
             [
              1,
              "#f0f921"
             ]
            ],
            "type": "heatmapgl"
           }
          ],
          "histogram": [
           {
            "marker": {
             "pattern": {
              "fillmode": "overlay",
              "size": 10,
              "solidity": 0.2
             }
            },
            "type": "histogram"
           }
          ],
          "histogram2d": [
           {
            "colorbar": {
             "outlinewidth": 0,
             "ticks": ""
            },
            "colorscale": [
             [
              0,
              "#0d0887"
             ],
             [
              0.1111111111111111,
              "#46039f"
             ],
             [
              0.2222222222222222,
              "#7201a8"
             ],
             [
              0.3333333333333333,
              "#9c179e"
             ],
             [
              0.4444444444444444,
              "#bd3786"
             ],
             [
              0.5555555555555556,
              "#d8576b"
             ],
             [
              0.6666666666666666,
              "#ed7953"
             ],
             [
              0.7777777777777778,
              "#fb9f3a"
             ],
             [
              0.8888888888888888,
              "#fdca26"
             ],
             [
              1,
              "#f0f921"
             ]
            ],
            "type": "histogram2d"
           }
          ],
          "histogram2dcontour": [
           {
            "colorbar": {
             "outlinewidth": 0,
             "ticks": ""
            },
            "colorscale": [
             [
              0,
              "#0d0887"
             ],
             [
              0.1111111111111111,
              "#46039f"
             ],
             [
              0.2222222222222222,
              "#7201a8"
             ],
             [
              0.3333333333333333,
              "#9c179e"
             ],
             [
              0.4444444444444444,
              "#bd3786"
             ],
             [
              0.5555555555555556,
              "#d8576b"
             ],
             [
              0.6666666666666666,
              "#ed7953"
             ],
             [
              0.7777777777777778,
              "#fb9f3a"
             ],
             [
              0.8888888888888888,
              "#fdca26"
             ],
             [
              1,
              "#f0f921"
             ]
            ],
            "type": "histogram2dcontour"
           }
          ],
          "mesh3d": [
           {
            "colorbar": {
             "outlinewidth": 0,
             "ticks": ""
            },
            "type": "mesh3d"
           }
          ],
          "parcoords": [
           {
            "line": {
             "colorbar": {
              "outlinewidth": 0,
              "ticks": ""
             }
            },
            "type": "parcoords"
           }
          ],
          "pie": [
           {
            "automargin": true,
            "type": "pie"
           }
          ],
          "scatter": [
           {
            "fillpattern": {
             "fillmode": "overlay",
             "size": 10,
             "solidity": 0.2
            },
            "type": "scatter"
           }
          ],
          "scatter3d": [
           {
            "line": {
             "colorbar": {
              "outlinewidth": 0,
              "ticks": ""
             }
            },
            "marker": {
             "colorbar": {
              "outlinewidth": 0,
              "ticks": ""
             }
            },
            "type": "scatter3d"
           }
          ],
          "scattercarpet": [
           {
            "marker": {
             "colorbar": {
              "outlinewidth": 0,
              "ticks": ""
             }
            },
            "type": "scattercarpet"
           }
          ],
          "scattergeo": [
           {
            "marker": {
             "colorbar": {
              "outlinewidth": 0,
              "ticks": ""
             }
            },
            "type": "scattergeo"
           }
          ],
          "scattergl": [
           {
            "marker": {
             "colorbar": {
              "outlinewidth": 0,
              "ticks": ""
             }
            },
            "type": "scattergl"
           }
          ],
          "scattermapbox": [
           {
            "marker": {
             "colorbar": {
              "outlinewidth": 0,
              "ticks": ""
             }
            },
            "type": "scattermapbox"
           }
          ],
          "scatterpolar": [
           {
            "marker": {
             "colorbar": {
              "outlinewidth": 0,
              "ticks": ""
             }
            },
            "type": "scatterpolar"
           }
          ],
          "scatterpolargl": [
           {
            "marker": {
             "colorbar": {
              "outlinewidth": 0,
              "ticks": ""
             }
            },
            "type": "scatterpolargl"
           }
          ],
          "scatterternary": [
           {
            "marker": {
             "colorbar": {
              "outlinewidth": 0,
              "ticks": ""
             }
            },
            "type": "scatterternary"
           }
          ],
          "surface": [
           {
            "colorbar": {
             "outlinewidth": 0,
             "ticks": ""
            },
            "colorscale": [
             [
              0,
              "#0d0887"
             ],
             [
              0.1111111111111111,
              "#46039f"
             ],
             [
              0.2222222222222222,
              "#7201a8"
             ],
             [
              0.3333333333333333,
              "#9c179e"
             ],
             [
              0.4444444444444444,
              "#bd3786"
             ],
             [
              0.5555555555555556,
              "#d8576b"
             ],
             [
              0.6666666666666666,
              "#ed7953"
             ],
             [
              0.7777777777777778,
              "#fb9f3a"
             ],
             [
              0.8888888888888888,
              "#fdca26"
             ],
             [
              1,
              "#f0f921"
             ]
            ],
            "type": "surface"
           }
          ],
          "table": [
           {
            "cells": {
             "fill": {
              "color": "#EBF0F8"
             },
             "line": {
              "color": "white"
             }
            },
            "header": {
             "fill": {
              "color": "#C8D4E3"
             },
             "line": {
              "color": "white"
             }
            },
            "type": "table"
           }
          ]
         },
         "layout": {
          "annotationdefaults": {
           "arrowcolor": "#2a3f5f",
           "arrowhead": 0,
           "arrowwidth": 1
          },
          "autotypenumbers": "strict",
          "coloraxis": {
           "colorbar": {
            "outlinewidth": 0,
            "ticks": ""
           }
          },
          "colorscale": {
           "diverging": [
            [
             0,
             "#8e0152"
            ],
            [
             0.1,
             "#c51b7d"
            ],
            [
             0.2,
             "#de77ae"
            ],
            [
             0.3,
             "#f1b6da"
            ],
            [
             0.4,
             "#fde0ef"
            ],
            [
             0.5,
             "#f7f7f7"
            ],
            [
             0.6,
             "#e6f5d0"
            ],
            [
             0.7,
             "#b8e186"
            ],
            [
             0.8,
             "#7fbc41"
            ],
            [
             0.9,
             "#4d9221"
            ],
            [
             1,
             "#276419"
            ]
           ],
           "sequential": [
            [
             0,
             "#0d0887"
            ],
            [
             0.1111111111111111,
             "#46039f"
            ],
            [
             0.2222222222222222,
             "#7201a8"
            ],
            [
             0.3333333333333333,
             "#9c179e"
            ],
            [
             0.4444444444444444,
             "#bd3786"
            ],
            [
             0.5555555555555556,
             "#d8576b"
            ],
            [
             0.6666666666666666,
             "#ed7953"
            ],
            [
             0.7777777777777778,
             "#fb9f3a"
            ],
            [
             0.8888888888888888,
             "#fdca26"
            ],
            [
             1,
             "#f0f921"
            ]
           ],
           "sequentialminus": [
            [
             0,
             "#0d0887"
            ],
            [
             0.1111111111111111,
             "#46039f"
            ],
            [
             0.2222222222222222,
             "#7201a8"
            ],
            [
             0.3333333333333333,
             "#9c179e"
            ],
            [
             0.4444444444444444,
             "#bd3786"
            ],
            [
             0.5555555555555556,
             "#d8576b"
            ],
            [
             0.6666666666666666,
             "#ed7953"
            ],
            [
             0.7777777777777778,
             "#fb9f3a"
            ],
            [
             0.8888888888888888,
             "#fdca26"
            ],
            [
             1,
             "#f0f921"
            ]
           ]
          },
          "colorway": [
           "#636efa",
           "#EF553B",
           "#00cc96",
           "#ab63fa",
           "#FFA15A",
           "#19d3f3",
           "#FF6692",
           "#B6E880",
           "#FF97FF",
           "#FECB52"
          ],
          "font": {
           "color": "#2a3f5f"
          },
          "geo": {
           "bgcolor": "white",
           "lakecolor": "white",
           "landcolor": "#E5ECF6",
           "showlakes": true,
           "showland": true,
           "subunitcolor": "white"
          },
          "hoverlabel": {
           "align": "left"
          },
          "hovermode": "closest",
          "mapbox": {
           "style": "light"
          },
          "paper_bgcolor": "white",
          "plot_bgcolor": "#E5ECF6",
          "polar": {
           "angularaxis": {
            "gridcolor": "white",
            "linecolor": "white",
            "ticks": ""
           },
           "bgcolor": "#E5ECF6",
           "radialaxis": {
            "gridcolor": "white",
            "linecolor": "white",
            "ticks": ""
           }
          },
          "scene": {
           "xaxis": {
            "backgroundcolor": "#E5ECF6",
            "gridcolor": "white",
            "gridwidth": 2,
            "linecolor": "white",
            "showbackground": true,
            "ticks": "",
            "zerolinecolor": "white"
           },
           "yaxis": {
            "backgroundcolor": "#E5ECF6",
            "gridcolor": "white",
            "gridwidth": 2,
            "linecolor": "white",
            "showbackground": true,
            "ticks": "",
            "zerolinecolor": "white"
           },
           "zaxis": {
            "backgroundcolor": "#E5ECF6",
            "gridcolor": "white",
            "gridwidth": 2,
            "linecolor": "white",
            "showbackground": true,
            "ticks": "",
            "zerolinecolor": "white"
           }
          },
          "shapedefaults": {
           "line": {
            "color": "#2a3f5f"
           }
          },
          "ternary": {
           "aaxis": {
            "gridcolor": "white",
            "linecolor": "white",
            "ticks": ""
           },
           "baxis": {
            "gridcolor": "white",
            "linecolor": "white",
            "ticks": ""
           },
           "bgcolor": "#E5ECF6",
           "caxis": {
            "gridcolor": "white",
            "linecolor": "white",
            "ticks": ""
           }
          },
          "title": {
           "x": 0.05
          },
          "xaxis": {
           "automargin": true,
           "gridcolor": "white",
           "linecolor": "white",
           "ticks": "",
           "title": {
            "standoff": 15
           },
           "zerolinecolor": "white",
           "zerolinewidth": 2
          },
          "yaxis": {
           "automargin": true,
           "gridcolor": "white",
           "linecolor": "white",
           "ticks": "",
           "title": {
            "standoff": 15
           },
           "zerolinecolor": "white",
           "zerolinewidth": 2
          }
         }
        },
        "title": {
         "text": "Reservas por país - City Hotel"
        }
       }
      }
     },
     "metadata": {},
     "output_type": "display_data"
    }
   ],
   "source": [
    "for hotel in df['hotel'].unique():\n",
    "    # Contar cuántas reservas provienen de cada país en cada hotel\n",
    "    reservas_hotel = df[df['hotel']==hotel]['country'].value_counts().reset_index()\n",
    "    reservas_hotel.columns = ['country', 'reservas']\n",
    "    \n",
    "    # Crear un mapa coroplético\n",
    "    fig = px.choropleth(\n",
    "        reservas_hotel,\n",
    "        locations='country',\n",
    "        color='reservas',\n",
    "        color_continuous_scale='Oranges',\n",
    "        title=f'Reservas por país - {hotel}'\n",
    "    )\n",
    "    fig.show()"
   ]
  },
  {
   "cell_type": "markdown",
   "id": "dac0a8b4",
   "metadata": {},
   "source": [
    "Analizamos la distribución de los canales de reserva utilizados por los clientes. ¿Qué canales de reserva utilizan los clientes y cuál es la proporción de cada uno?"
   ]
  },
  {
   "cell_type": "code",
   "execution_count": 48,
   "id": "3176dd6a",
   "metadata": {},
   "outputs": [
    {
     "name": "stdout",
     "output_type": "stream",
     "text": [
      "distribution_channel\n",
      "TA/TO        97870\n",
      "Direct       14645\n",
      "Corporate     6677\n",
      "GDS            193\n",
      "Undefined        5\n",
      "Name: count, dtype: int64\n"
     ]
    },
    {
     "data": {
      "image/png": "[encoded data removed]",
      "text/plain": [
       "<Figure size 800x600 with 1 Axes>"
      ]
     },
     "metadata": {},
     "output_type": "display_data"
    }
   ],
   "source": [
    "canales = df['distribution_channel'].value_counts()\n",
    "print(canales)\n",
    "\n",
    "# Umbral: menos del 5% se agrupa en 'Otros'\n",
    "umbral = 0.05 * canales.sum()\n",
    "canales_agrupados = canales.copy()\n",
    "canales_agrupados[canales < umbral] = 0\n",
    "\n",
    "otros = canales[canales < umbral].sum()\n",
    "canales_agrupados = canales_agrupados[canales_agrupados>0]\n",
    "canales_agrupados['Otros'] = otros\n",
    "\n",
    "plt.figure(figsize=(8, 6))\n",
    "# Crear gráfico circular\n",
    "wedges, texts, autotexts = plt.pie(\n",
    "    canales_agrupados.values,\n",
    "    labels=None,\n",
    "    autopct='%1.1f%%',\n",
    "    startangle=90,\n",
    "    colors=['skyblue','lightgreen','orange','pink'],\n",
    "    pctdistance=1.1\n",
    ")\n",
    "\n",
    "# Agregar leyenda al lado\n",
    "plt.legend(\n",
    "    wedges,\n",
    "    canales_agrupados.index,\n",
    "    title=\"Canales de reserva\",\n",
    "    loc=\"center left\",\n",
    "    bbox_to_anchor=(0.9, 0, 0.5, 1)\n",
    ")\n",
    "\n",
    "plt.axis('equal')\n",
    "plt.show()"
   ]
  },
  {
   "cell_type": "markdown",
   "id": "1d42e818",
   "metadata": {},
   "source": [
    "### 3. Patrones de comportamiento y cancelaciones (Rodri)"
   ]
  },
  {
   "cell_type": "markdown",
   "id": "f7050d0d",
   "metadata": {},
   "source": [
    "Objetivo: Analizar cómo varían las reservas en función del tiempo, los precios y la estancia."
   ]
  },
  {
   "cell_type": "markdown",
   "id": "7d7bdce0",
   "metadata": {},
   "source": [
    "Analizamos el número de reservas por mes para determinar la estacionalidad. También analizamos el número de cancelaciones por mes.\n",
    "¿En qué meses hay más reservas y cancelaciones?"
   ]
  },
  {
   "cell_type": "code",
   "execution_count": 27,
   "id": "19ade4ac",
   "metadata": {},
   "outputs": [
    {
     "name": "stdout",
     "output_type": "stream",
     "text": [
      "=== RESUMEN COMPLETO (ORDENADO CRONOLÓGICAMENTE) ===\n",
      "                    Reservas  Porcentaje\n",
      "arrival_date_month                      \n",
      "January                 5929        4.97\n",
      "February                8068        6.76\n",
      "March                   9794        8.20\n",
      "April                  11089        9.29\n",
      "May                    11791        9.88\n",
      "June                   10939        9.16\n",
      "July                   12661       10.60\n",
      "August                 13877       11.62\n",
      "September              10508        8.80\n",
      "October                11160        9.35\n",
      "November                6794        5.69\n",
      "December                6780        5.68\n"
     ]
    },
    {
     "data": {
      "image/png": "[encoded data removed]",
      "text/plain": [
       "<Figure size 1200x600 with 1 Axes>"
      ]
     },
     "metadata": {},
     "output_type": "display_data"
    }
   ],
   "source": [
    "# Análisis de estacionalidad - Porcentaje de clientes por mes\n",
    "\n",
    "# Contar reservas por mes\n",
    "reservas_por_mes = df['arrival_date_month'].value_counts()\n",
    "\n",
    "# Calcular porcentaje por mes\n",
    "porcentaje_por_mes = (df['arrival_date_month'].value_counts(normalize=True) * 100).round(2)\n",
    "\n",
    "# Crear una tabla más visual ORDENADA por mes cronológico\n",
    "resumen_mes = pd.DataFrame({\n",
    "    'Reservas': reservas_por_mes,\n",
    "    'Porcentaje': porcentaje_por_mes\n",
    "})\n",
    "\n",
    "# Definir el orden correcto de los meses\n",
    "orden_meses = ['January', 'February', 'March', 'April', 'May', 'June',\n",
    "               'July', 'August', 'September', 'October', 'November', 'December']\n",
    "\n",
    "# Reordenar según el orden cronológico de los meses\n",
    "resumen_mes = resumen_mes.reindex(orden_meses)\n",
    "\n",
    "print(\"=== RESUMEN COMPLETO (ORDENADO CRONOLÓGICAMENTE) ===\")\n",
    "print(resumen_mes)\n",
    "\n",
    "# Histograma de reservas por mes\n",
    "plt.figure(figsize=(12, 6))\n",
    "plt.bar(resumen_mes.index, resumen_mes['Reservas'], color='skyblue', edgecolor='navy', alpha=0.7)\n",
    "plt.title('Histograma: Distribución de Reservas por Mes', fontsize=16, fontweight='bold')\n",
    "plt.xlabel('Mes', fontsize=12)\n",
    "plt.ylabel('Número de Reservas', fontsize=12)\n",
    "plt.xticks(rotation=45)\n",
    "plt.grid(axis='y', alpha=0.3)\n",
    "\n",
    "# Añadir valores en las barras\n",
    "for i, v in enumerate(resumen_mes['Reservas']):\n",
    "    plt.text(i, v + 100, f'{v:,.0f}', ha='center', va='bottom', fontweight='bold')\n",
    "\n",
    "plt.tight_layout()\n",
    "plt.show()"
   ]
  },
  {
   "cell_type": "code",
   "execution_count": 28,
   "id": "b29ca1a3",
   "metadata": {},
   "outputs": [
    {
     "name": "stdout",
     "output_type": "stream",
     "text": [
      "=== TASA DE CANCELACIÓN POR MES ===\n",
      "arrival_date_month\n",
      "January      30.48\n",
      "February     33.42\n",
      "March        32.15\n",
      "April        40.80\n",
      "May          39.67\n",
      "June         41.46\n",
      "July         37.45\n",
      "August       37.75\n",
      "September    39.17\n",
      "October      38.05\n",
      "November     31.23\n",
      "December     34.97\n",
      "Name: is_canceled, dtype: float64\n"
     ]
    },
    {
     "data": {
      "image/png": "[encoded data removed]",
      "text/plain": [
       "<Figure size 1400x800 with 1 Axes>"
      ]
     },
     "metadata": {},
     "output_type": "display_data"
    }
   ],
   "source": [
    "# Calcular tasa de cancelación por mes (cancelaciones/total_reservas_del_mes), calculamos la tasa para que el resultado sea independiente del numero de cancelaciones\n",
    "print(\"=== TASA DE CANCELACIÓN POR MES ===\")\n",
    "tasa_cancelacion_mes = df.groupby('arrival_date_month')['is_canceled'].mean() * 100\n",
    "tasa_cancelacion_ordenada = tasa_cancelacion_mes.reindex(orden_meses)\n",
    "print(tasa_cancelacion_ordenada.round(2))\n",
    "\n",
    "# Visualización de la tasa de cancelación por mes\n",
    "plt.figure(figsize=(14, 8))\n",
    "\n",
    "bars = plt.bar(tasa_cancelacion_ordenada.index, tasa_cancelacion_ordenada.values, edgecolor='black', alpha=0.8)\n",
    "\n",
    "plt.title('Tasa de Cancelación por Mes (%)', fontsize=18, fontweight='bold', pad=20)\n",
    "plt.xlabel('Mes', fontsize=14, fontweight='bold')\n",
    "plt.ylabel('Tasa de Cancelación (%)', fontsize=14, fontweight='bold')\n",
    "plt.xticks(rotation=45, fontsize=12)\n",
    "plt.yticks(fontsize=12)\n",
    "\n",
    "# Añadir valores en las barras\n",
    "for i, (mes, tasa) in enumerate(tasa_cancelacion_ordenada.items()):\n",
    "    plt.text(i, tasa + 0.5, f'{tasa:.1f}%', ha='center', va='bottom', \n",
    "             fontweight='bold', fontsize=11)\n",
    "\n",
    "# Añadir línea de referencia con la media\n",
    "media_cancelacion = tasa_cancelacion_ordenada.mean()\n",
    "plt.axhline(y=media_cancelacion, color='blue', linestyle='--', linewidth=2, \n",
    "            label=f'Media: {media_cancelacion:.1f}%')\n",
    "\n",
    "# Añadir rejilla y leyenda\n",
    "plt.grid(axis='y', alpha=0.3)\n",
    "plt.legend(fontsize=12)\n",
    "plt.show()"
   ]
  },
  {
   "cell_type": "markdown",
   "id": "a0315231",
   "metadata": {},
   "source": [
    "Analisis de la variacion del precio con los meses"
   ]
  },
  {
   "cell_type": "code",
   "execution_count": 29,
   "id": "ca39ae7d",
   "metadata": {},
   "outputs": [
    {
     "name": "stdout",
     "output_type": "stream",
     "text": [
      "=== ESTADÍSTICAS DE PRECIOS POR TEMPORADA ===\n",
      "\n",
      "Primavera:\n",
      "  Precio promedio: $97.48\n",
      "\n",
      "Verano:\n",
      "  Precio promedio: $128.77\n",
      "\n",
      "Otoño:\n",
      "  Precio promedio: $90.87\n",
      "\n",
      "Invierno:\n",
      "  Precio promedio: $75.11\n"
     ]
    },
    {
     "data": {
      "image/png": "[encoded data removed]",
      "text/plain": [
       "<Figure size 640x480 with 1 Axes>"
      ]
     },
     "metadata": {},
     "output_type": "display_data"
    },
    {
     "name": "stdout",
     "output_type": "stream",
     "text": [
      "\n",
      "=== RANKING DE TEMPORADAS POR PRECIO PROMEDIO ===\n",
      "1. Verano: $128.77\n",
      "2. Primavera: $97.48\n",
      "3. Otoño: $90.87\n",
      "4. Invierno: $75.11\n"
     ]
    }
   ],
   "source": [
    "# Boxplot: Variación de precios según temporada\n",
    "\n",
    "# Definir temporadas basándose en los meses\n",
    "def categorizar_temporada(mes):\n",
    "    if mes in ['December', 'January', 'February']:\n",
    "        return 'Invierno'\n",
    "    elif mes in ['March', 'April', 'May']:\n",
    "        return 'Primavera'\n",
    "    elif mes in ['June', 'July', 'August']:\n",
    "        return 'Verano'\n",
    "    else: \n",
    "        return 'Otoño'\n",
    "\n",
    "# Crear columna de temporada\n",
    "df['temporada'] = df['arrival_date_month'].apply(categorizar_temporada)\n",
    "\n",
    "temporadas_ordenadas = ['Invierno', 'Primavera', 'Verano', 'Otoño']\n",
    "datos_temporadas = [df[df['temporada'] == temp]['adr'] for temp in temporadas_ordenadas]\n",
    "\n",
    "# Gráfico de barras con precio promedio\n",
    "precio_promedio_temp = df.groupby('temporada')['adr'].mean().reindex(temporadas_ordenadas)\n",
    "barras = plt.bar(temporadas_ordenadas, precio_promedio_temp.values, alpha=0.8 ,edgecolor='black', linewidth=1.5)\n",
    "\n",
    "# Añadir valores en las barras\n",
    "for bar, valor in zip(barras, precio_promedio_temp.values):\n",
    "    height = bar.get_height()\n",
    "    plt.text(bar.get_x() + bar.get_width()/2., height + 1,\n",
    "             f'${valor:.0f}', ha='center', va='bottom', fontweight='bold', fontsize=11)\n",
    "\n",
    "plt.title('Precio Promedio por Temporada\\n(Gráfico de Barras)', fontsize=14, fontweight='bold')\n",
    "plt.xlabel('Temporada', fontsize=12, fontweight='bold')\n",
    "plt.ylabel('Precio Promedio ADR ($)', fontsize=12, fontweight='bold')\n",
    "plt.tick_params(axis='x', rotation=45)\n",
    "plt.grid(axis='y', alpha=0.3)\n",
    "\n",
    "plt.tight_layout()\n",
    "\n",
    "# Añadir estadísticas por temporada\n",
    "print(\"=== ESTADÍSTICAS DE PRECIOS POR TEMPORADA ===\")\n",
    "for temp in ['Primavera', 'Verano', 'Otoño', 'Invierno']:\n",
    "    precios_temp = df[df['temporada'] == temp]['adr']\n",
    "    print(f\"\\n{temp}:\")\n",
    "    print(f\"  Precio promedio: ${precios_temp.mean():.2f}\")\n",
    "\n",
    "plt.show()\n",
    "\n",
    "# Análisis adicional: precio promedio por temporada\n",
    "precio_por_temporada = df.groupby('temporada')['adr'].mean().sort_values(ascending=False)\n",
    "print(f\"\\n=== RANKING DE TEMPORADAS POR PRECIO PROMEDIO ===\")\n",
    "for i, (temp, precio) in enumerate(precio_por_temporada.items(), 1):\n",
    "    print(f\"{i}. {temp}: ${precio:.2f}\")"
   ]
  },
  {
   "cell_type": "markdown",
   "id": "1d6da17e",
   "metadata": {},
   "source": [
    "Analisis de la correlacion entre el precio y la tasa de cancelacion ¿El precio influye en la probabilidad de cancelación?"
   ]
  },
  {
   "cell_type": "code",
   "execution_count": 30,
   "id": "41327265",
   "metadata": {},
   "outputs": [
    {
     "name": "stdout",
     "output_type": "stream",
     "text": [
      "=== ANÁLISIS: PRECIO vs CANCELACIÓN ===\n",
      "1. ESTADÍSTICAS BÁSICAS DEL PRECIO\n",
      "Precio promedio general: $101.83\n",
      "Precio mediano: $94.58\n",
      "\n",
      "Precio promedio - Reservas CANCELADAS: $104.96\n",
      "Precio promedio - Reservas NO canceladas: $99.99\n",
      "Diferencia: $4.98\n",
      "\n",
      "==================================================\n",
      "2. CORRELACIÓN PRECIO-CANCELACIÓN\n",
      "Correlación entre precio (ADR) y cancelación: 0.0476\n"
     ]
    }
   ],
   "source": [
    "# ¿El precio influye en la probabilidad de cancelación?\n",
    "\n",
    "print(\"=== ANÁLISIS: PRECIO vs CANCELACIÓN ===\")\n",
    "\n",
    "# 1. Estadísticas básicas del precio (ADR - Average Daily Rate)\n",
    "print(\"1. ESTADÍSTICAS BÁSICAS DEL PRECIO\")\n",
    "\n",
    "print(f\"Precio promedio general: ${df['adr'].mean():.2f}\")\n",
    "print(f\"Precio mediano: ${df['adr'].median():.2f}\")\n",
    "\n",
    "# 2. Comparar precios entre reservas canceladas vs no canceladas\n",
    "precio_canceladas = df[df['is_canceled'] == 1]['adr']\n",
    "precio_no_canceladas = df[df['is_canceled'] == 0]['adr']\n",
    "\n",
    "print(f\"\\nPrecio promedio - Reservas CANCELADAS: ${precio_canceladas.mean():.2f}\")\n",
    "print(f\"Precio promedio - Reservas NO canceladas: ${precio_no_canceladas.mean():.2f}\")\n",
    "print(f\"Diferencia: ${precio_canceladas.mean() - precio_no_canceladas.mean():.2f}\")\n",
    "\n",
    "# 4. Correlación entre precio y cancelación\n",
    "print(\"\\n\" + \"=\"*50)\n",
    "print(\"2. CORRELACIÓN PRECIO-CANCELACIÓN\")\n",
    "correlacion = df['adr'].corr(df['is_canceled'])\n",
    "print(f\"Correlación entre precio (ADR) y cancelación: {correlacion:.4f}\")"
   ]
  },
  {
   "cell_type": "markdown",
   "id": "6dc5d8b6",
   "metadata": {},
   "source": [
    "¿Las cancelaciones varían por tipo de hotel?"
   ]
  },
  {
   "cell_type": "code",
   "execution_count": 31,
   "id": "76e03206",
   "metadata": {},
   "outputs": [
    {
     "name": "stdout",
     "output_type": "stream",
     "text": [
      "CANCELACIONES POR TIPO DE HOTEL\n",
      "Número de cancelaciones por tipo:\n",
      "hotel\n",
      "City Hotel      33102\n",
      "Resort Hotel    11122\n",
      "Name: count, dtype: int64\n",
      "TASA DE CANCELACIÓN POR TIPO (cancelaciones/total_reservas)\n",
      "              Total_Reservas  Total_Cancelaciones  Tasa_Cancelacion  \\\n",
      "hotel                                                                 \n",
      "City Hotel             79330                33102            0.4173   \n",
      "Resort Hotel           40060                11122            0.2776   \n",
      "\n",
      "              Tasa_Cancelacion_Pct  \n",
      "hotel                               \n",
      "City Hotel                   41.73  \n",
      "Resort Hotel                 27.76  \n",
      "\n",
      "============================================================\n",
      "4. INTERPRETACIÓN\n",
      "City Hotel - Tasa de cancelación: 41.73%\n",
      "Resort Hotel - Tasa de cancelación: 27.76%\n",
      "Diferencia: 13.97 puntos porcentuales\n",
      "→ Los CITY HOTELS tienen 13.97% MÁS cancelaciones que los Resort Hotels\n"
     ]
    }
   ],
   "source": [
    "# Calcular cancelaciones por tipo de hotel\n",
    "print(\"CANCELACIONES POR TIPO DE HOTEL\")\n",
    "\n",
    "# Cancelaciones absolutas por tipo\n",
    "cancelaciones_por_tipo = df[df['is_canceled'] == 1]['hotel'].value_counts()\n",
    "print(\"Número de cancelaciones por tipo:\")\n",
    "print(cancelaciones_por_tipo)\n",
    "\n",
    "#  TASA DE CANCELACIÓN por tipo (lo más importante)\n",
    "print(\"TASA DE CANCELACIÓN POR TIPO (cancelaciones/total_reservas)\")\n",
    "\n",
    "tasa_por_tipo = df.groupby('hotel').agg({\n",
    "    'is_canceled': ['count', 'sum', 'mean']\n",
    "}).round(4)\n",
    "\n",
    "# Simplificar nombres de columnas\n",
    "tasa_por_tipo.columns = ['Total_Reservas', 'Total_Cancelaciones', 'Tasa_Cancelacion']\n",
    "tasa_por_tipo['Tasa_Cancelacion_Pct'] = (tasa_por_tipo['Tasa_Cancelacion'] * 100).round(2)\n",
    "\n",
    "print(tasa_por_tipo)\n",
    "\n",
    "print(\"\\n\" + \"=\"*60)\n",
    "\n",
    "# 4. Interpretación y comparación\n",
    "print(\"4. INTERPRETACIÓN\")\n",
    "city_hotel_rate = tasa_por_tipo.loc['City Hotel', 'Tasa_Cancelacion_Pct']\n",
    "resort_hotel_rate = tasa_por_tipo.loc['Resort Hotel', 'Tasa_Cancelacion_Pct']\n",
    "\n",
    "diferencia = abs(city_hotel_rate - resort_hotel_rate)\n",
    "print(f\"City Hotel - Tasa de cancelación: {city_hotel_rate}%\")\n",
    "print(f\"Resort Hotel - Tasa de cancelación: {resort_hotel_rate}%\")\n",
    "print(f\"Diferencia: {diferencia:.2f} puntos porcentuales\")\n",
    "\n",
    "if city_hotel_rate > resort_hotel_rate:\n",
    "    print(f\"→ Los CITY HOTELS tienen {diferencia:.2f}% MÁS cancelaciones que los Resort Hotels\")\n",
    "elif resort_hotel_rate > city_hotel_rate:\n",
    "    print(f\"→ Los RESORT HOTELS tienen {diferencia:.2f}% MÁS cancelaciones que los City Hotels\")\n",
    "else:\n",
    "    print(\"→ Ambos tipos de hotel tienen tasas de cancelación similares\")"
   ]
  },
  {
   "cell_type": "markdown",
   "id": "cdecb9e9",
   "metadata": {},
   "source": [
    "### 4. Predicción y recomendaciones"
   ]
  },
  {
   "cell_type": "markdown",
   "id": "1cf30284",
   "metadata": {},
   "source": [
    "Objetivo: Explorar qué factores están más relacionados con las cancelaciones y proponer conclusiones prácticas."
   ]
  },
  {
   "cell_type": "code",
   "execution_count": null,
   "id": "43188dc7",
   "metadata": {},
   "outputs": [],
   "source": [
    "\n"
   ]
  },
  {
   "cell_type": "markdown",
   "id": "ef7d3c11",
   "metadata": {},
   "source": [
    "### 5. Conclusiones\n",
    "\n",
    "- Principales hallazgos\n",
    "\n",
    "- Reflexiones sobre el comportamiento de los usuarios\n",
    "\n",
    "- Posibles recomendaciones para retención"
   ]
  }
 ],
 "metadata": {
  "kernelspec": {
   "display_name": "base",
   "language": "python",
   "name": "python3"
  },
  "language_info": {
   "codemirror_mode": {
    "name": "ipython",
    "version": 3
   },
   "file_extension": ".py",
   "mimetype": "text/x-python",
   "name": "python",
   "nbconvert_exporter": "python",
   "pygments_lexer": "ipython3",
   "version": "3.13.5"
  }
 },
 "nbformat": 4,
 "nbformat_minor": 5
}
